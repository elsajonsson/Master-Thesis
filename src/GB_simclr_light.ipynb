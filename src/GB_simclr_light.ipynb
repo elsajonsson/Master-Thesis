{
 "cells": [
  {
   "cell_type": "markdown",
   "id": "ae048a22-dcb2-4d09-acdf-ff6efc9d2398",
   "metadata": {},
   "source": [
    "# Clustering of DIME embeddings of WSI patches"
   ]
  },
  {
   "cell_type": "markdown",
   "id": "ebdd7210-101e-44d7-b3bc-c977e03ba263",
   "metadata": {},
   "source": [
    "### By Elsa Jonsson, Embeddings provided by AstraZeneca\n",
    "\n",
    "In this notebook i will take DIME embeddings of tumour patches of the Camelyon16 dataset and create a binary classifier using a Gradient Boosting network"
   ]
  },
  {
   "cell_type": "markdown",
   "id": "f04038ef-2ce4-434a-9423-b6d7ffdd0734",
   "metadata": {},
   "source": [
    "### If not working in my docker container, run this line first:"
   ]
  },
  {
   "cell_type": "code",
   "execution_count": 1,
   "id": "9ecb1601-552f-4703-89ee-e5ebdf92cfb0",
   "metadata": {
    "collapsed": true,
    "jupyter": {
     "outputs_hidden": true
    },
    "tags": []
   },
   "outputs": [
    {
     "name": "stdout",
     "output_type": "stream",
     "text": [
      "Defaulting to user installation because normal site-packages is not writeable\n",
      "Requirement already satisfied: scikit-image in /home/kzmq426/.local/lib/python3.9/site-packages (from -r requirements.txt (line 1)) (0.19.2)\n",
      "Requirement already satisfied: sklearn in /home/kzmq426/.local/lib/python3.9/site-packages (from -r requirements.txt (line 2)) (0.0)\n",
      "Requirement already satisfied: matplot in /home/kzmq426/.local/lib/python3.9/site-packages (from -r requirements.txt (line 3)) (0.1.9)\n",
      "Requirement already satisfied: numpy in /home/kzmq426/.local/lib/python3.9/site-packages (from -r requirements.txt (line 4)) (1.21.5)\n",
      "Requirement already satisfied: scipy in /home/kzmq426/.local/lib/python3.9/site-packages (from -r requirements.txt (line 5)) (1.8.0)\n",
      "Requirement already satisfied: pandas in /home/kzmq426/.local/lib/python3.9/site-packages (from -r requirements.txt (line 6)) (1.4.1)\n",
      "Requirement already satisfied: virtualenv in /opt/scp/software/Python/3.9.5-GCCcore-10.3.0/lib/python3.9/site-packages (from -r requirements.txt (line 7)) (20.4.6)\n",
      "Requirement already satisfied: seaborn in /home/kzmq426/.local/lib/python3.9/site-packages (from -r requirements.txt (line 8)) (0.11.2)\n",
      "Requirement already satisfied: umap-learn in /home/kzmq426/.local/lib/python3.9/site-packages (from -r requirements.txt (line 9)) (0.5.2)\n",
      "Requirement already satisfied: matplotlib in /home/kzmq426/.local/lib/python3.9/site-packages (from -r requirements.txt (line 10)) (3.5.1)\n",
      "Requirement already satisfied: mlxtend in /home/kzmq426/.local/lib/python3.9/site-packages (from -r requirements.txt (line 11)) (0.19.0)\n",
      "Requirement already satisfied: pillow!=7.1.0,!=7.1.1,!=8.3.0,>=6.1.0 in /home/kzmq426/.local/lib/python3.9/site-packages (from scikit-image->-r requirements.txt (line 1)) (9.0.1)\n",
      "Requirement already satisfied: PyWavelets>=1.1.1 in /home/kzmq426/.local/lib/python3.9/site-packages (from scikit-image->-r requirements.txt (line 1)) (1.2.0)\n",
      "Requirement already satisfied: packaging>=20.0 in /opt/scp/software/Python/3.9.5-GCCcore-10.3.0/lib/python3.9/site-packages (from scikit-image->-r requirements.txt (line 1)) (20.9)\n",
      "Requirement already satisfied: tifffile>=2019.7.26 in /home/kzmq426/.local/lib/python3.9/site-packages (from scikit-image->-r requirements.txt (line 1)) (2022.2.9)\n",
      "Requirement already satisfied: imageio>=2.4.1 in /home/kzmq426/.local/lib/python3.9/site-packages (from scikit-image->-r requirements.txt (line 1)) (2.16.1)\n",
      "Requirement already satisfied: networkx>=2.2 in /home/kzmq426/.local/lib/python3.9/site-packages (from scikit-image->-r requirements.txt (line 1)) (2.7)\n",
      "Requirement already satisfied: pyparsing>=2.0.2 in /opt/scp/software/Python/3.9.5-GCCcore-10.3.0/lib/python3.9/site-packages (from packaging>=20.0->scikit-image->-r requirements.txt (line 1)) (2.4.7)\n",
      "Requirement already satisfied: scikit-learn in /home/kzmq426/.local/lib/python3.9/site-packages (from sklearn->-r requirements.txt (line 2)) (1.0.2)\n",
      "Requirement already satisfied: pyloco>=0.0.134 in /home/kzmq426/.local/lib/python3.9/site-packages (from matplot->-r requirements.txt (line 3)) (0.0.139)\n",
      "Requirement already satisfied: kiwisolver>=1.0.1 in /home/kzmq426/.local/lib/python3.9/site-packages (from matplotlib->-r requirements.txt (line 10)) (1.3.2)\n",
      "Requirement already satisfied: cycler>=0.10 in /home/kzmq426/.local/lib/python3.9/site-packages (from matplotlib->-r requirements.txt (line 10)) (0.11.0)\n",
      "Requirement already satisfied: fonttools>=4.22.0 in /home/kzmq426/.local/lib/python3.9/site-packages (from matplotlib->-r requirements.txt (line 10)) (4.29.1)\n",
      "Requirement already satisfied: python-dateutil>=2.7 in /opt/scp/software/Python/3.9.5-GCCcore-10.3.0/lib/python3.9/site-packages (from matplotlib->-r requirements.txt (line 10)) (2.8.1)\n",
      "Requirement already satisfied: twine in /home/kzmq426/.local/lib/python3.9/site-packages (from pyloco>=0.0.134->matplot->-r requirements.txt (line 3)) (3.8.0)\n",
      "Requirement already satisfied: typing in /home/kzmq426/.local/lib/python3.9/site-packages (from pyloco>=0.0.134->matplot->-r requirements.txt (line 3)) (3.7.4.3)\n",
      "Requirement already satisfied: ushlex in /home/kzmq426/.local/lib/python3.9/site-packages (from pyloco>=0.0.134->matplot->-r requirements.txt (line 3)) (0.99.1)\n",
      "Requirement already satisfied: websocket-client in /opt/scp/software/JupyterLab/3.1.0-GCCcore-10.3.0/lib/python3.9/site-packages (from pyloco>=0.0.134->matplot->-r requirements.txt (line 3)) (1.1.0)\n",
      "Requirement already satisfied: SimpleWebSocketServer in /home/kzmq426/.local/lib/python3.9/site-packages (from pyloco>=0.0.134->matplot->-r requirements.txt (line 3)) (0.1.1)\n",
      "Requirement already satisfied: six>=1.5 in /opt/scp/software/Python/3.9.5-GCCcore-10.3.0/lib/python3.9/site-packages (from python-dateutil>=2.7->matplotlib->-r requirements.txt (line 10)) (1.16.0)\n",
      "Requirement already satisfied: pytz>=2020.1 in /opt/scp/software/Python/3.9.5-GCCcore-10.3.0/lib/python3.9/site-packages (from pandas->-r requirements.txt (line 6)) (2021.1)\n",
      "Requirement already satisfied: distlib<1,>=0.3.1 in /opt/scp/software/Python/3.9.5-GCCcore-10.3.0/lib/python3.9/site-packages (from virtualenv->-r requirements.txt (line 7)) (0.3.1)\n",
      "Requirement already satisfied: appdirs<2,>=1.4.3 in /opt/scp/software/Python/3.9.5-GCCcore-10.3.0/lib/python3.9/site-packages (from virtualenv->-r requirements.txt (line 7)) (1.4.4)\n",
      "Requirement already satisfied: filelock<4,>=3.0.0 in /opt/scp/software/Python/3.9.5-GCCcore-10.3.0/lib/python3.9/site-packages (from virtualenv->-r requirements.txt (line 7)) (3.0.12)\n",
      "Requirement already satisfied: tqdm in /home/kzmq426/.local/lib/python3.9/site-packages (from umap-learn->-r requirements.txt (line 9)) (4.63.0)\n",
      "Requirement already satisfied: numba>=0.49 in /home/kzmq426/.local/lib/python3.9/site-packages (from umap-learn->-r requirements.txt (line 9)) (0.55.1)\n",
      "Requirement already satisfied: pynndescent>=0.5 in /home/kzmq426/.local/lib/python3.9/site-packages (from umap-learn->-r requirements.txt (line 9)) (0.5.6)\n",
      "Requirement already satisfied: llvmlite<0.39,>=0.38.0rc1 in /home/kzmq426/.local/lib/python3.9/site-packages (from numba>=0.49->umap-learn->-r requirements.txt (line 9)) (0.38.0)\n",
      "Requirement already satisfied: setuptools in /opt/scp/software/Python/3.9.5-GCCcore-10.3.0/lib/python3.9/site-packages (from numba>=0.49->umap-learn->-r requirements.txt (line 9)) (56.2.0)\n",
      "Requirement already satisfied: joblib>=0.11 in /opt/scp/software/Python/3.9.5-GCCcore-10.3.0/lib/python3.9/site-packages (from pynndescent>=0.5->umap-learn->-r requirements.txt (line 9)) (1.0.1)\n",
      "Requirement already satisfied: threadpoolctl>=2.0.0 in /opt/scp/software/Python/3.9.5-GCCcore-10.3.0/lib/python3.9/site-packages (from scikit-learn->sklearn->-r requirements.txt (line 2)) (2.1.0)\n",
      "Requirement already satisfied: requests-toolbelt!=0.9.0,>=0.8.0 in /opt/scp/software/Python/3.9.5-GCCcore-10.3.0/lib/python3.9/site-packages (from twine->pyloco>=0.0.134->matplot->-r requirements.txt (line 3)) (0.9.1)\n",
      "Requirement already satisfied: readme-renderer>=21.0 in /home/kzmq426/.local/lib/python3.9/site-packages (from twine->pyloco>=0.0.134->matplot->-r requirements.txt (line 3)) (32.0)\n",
      "Requirement already satisfied: colorama>=0.4.3 in /opt/scp/software/Python/3.9.5-GCCcore-10.3.0/lib/python3.9/site-packages (from twine->pyloco>=0.0.134->matplot->-r requirements.txt (line 3)) (0.4.4)\n",
      "Requirement already satisfied: requests>=2.20 in /opt/scp/software/Python/3.9.5-GCCcore-10.3.0/lib/python3.9/site-packages (from twine->pyloco>=0.0.134->matplot->-r requirements.txt (line 3)) (2.25.1)\n",
      "Requirement already satisfied: rfc3986>=1.4.0 in /home/kzmq426/.local/lib/python3.9/site-packages (from twine->pyloco>=0.0.134->matplot->-r requirements.txt (line 3)) (2.0.0)\n",
      "Requirement already satisfied: keyring>=15.1 in /opt/scp/software/Python/3.9.5-GCCcore-10.3.0/lib/python3.9/site-packages (from twine->pyloco>=0.0.134->matplot->-r requirements.txt (line 3)) (21.8.0)\n",
      "Requirement already satisfied: urllib3>=1.26.0 in /opt/scp/software/Python/3.9.5-GCCcore-10.3.0/lib/python3.9/site-packages (from twine->pyloco>=0.0.134->matplot->-r requirements.txt (line 3)) (1.26.4)\n",
      "Requirement already satisfied: pkginfo>=1.8.1 in /home/kzmq426/.local/lib/python3.9/site-packages (from twine->pyloco>=0.0.134->matplot->-r requirements.txt (line 3)) (1.8.2)\n",
      "Requirement already satisfied: importlib-metadata>=3.6 in /home/kzmq426/.local/lib/python3.9/site-packages (from twine->pyloco>=0.0.134->matplot->-r requirements.txt (line 3)) (4.11.3)\n",
      "Requirement already satisfied: zipp>=0.5 in /opt/scp/software/Python/3.9.5-GCCcore-10.3.0/lib/python3.9/site-packages (from importlib-metadata>=3.6->twine->pyloco>=0.0.134->matplot->-r requirements.txt (line 3)) (3.4.1)\n",
      "Requirement already satisfied: jeepney>=0.4.2 in /opt/scp/software/Python/3.9.5-GCCcore-10.3.0/lib/python3.9/site-packages (from keyring>=15.1->twine->pyloco>=0.0.134->matplot->-r requirements.txt (line 3)) (0.6.0)\n",
      "Requirement already satisfied: SecretStorage>=3.2 in /opt/scp/software/Python/3.9.5-GCCcore-10.3.0/lib/python3.9/site-packages (from keyring>=15.1->twine->pyloco>=0.0.134->matplot->-r requirements.txt (line 3)) (3.3.1)\n",
      "Requirement already satisfied: Pygments>=2.5.1 in /opt/scp/software/Python/3.9.5-GCCcore-10.3.0/lib/python3.9/site-packages (from readme-renderer>=21.0->twine->pyloco>=0.0.134->matplot->-r requirements.txt (line 3)) (2.9.0)\n",
      "Requirement already satisfied: docutils>=0.13.1 in /opt/scp/software/Python/3.9.5-GCCcore-10.3.0/lib/python3.9/site-packages (from readme-renderer>=21.0->twine->pyloco>=0.0.134->matplot->-r requirements.txt (line 3)) (0.17.1)\n",
      "Requirement already satisfied: bleach>=2.1.0 in /opt/scp/software/IPython/7.25.0-GCCcore-10.3.0/lib/python3.9/site-packages (from readme-renderer>=21.0->twine->pyloco>=0.0.134->matplot->-r requirements.txt (line 3)) (3.3.0)\n",
      "Requirement already satisfied: webencodings in /opt/scp/software/Python/3.9.5-GCCcore-10.3.0/lib/python3.9/site-packages (from bleach>=2.1.0->readme-renderer>=21.0->twine->pyloco>=0.0.134->matplot->-r requirements.txt (line 3)) (0.5.1)\n",
      "Requirement already satisfied: idna<3,>=2.5 in /opt/scp/software/Python/3.9.5-GCCcore-10.3.0/lib/python3.9/site-packages (from requests>=2.20->twine->pyloco>=0.0.134->matplot->-r requirements.txt (line 3)) (2.10)\n",
      "Requirement already satisfied: certifi>=2017.4.17 in /opt/scp/software/Python/3.9.5-GCCcore-10.3.0/lib/python3.9/site-packages (from requests>=2.20->twine->pyloco>=0.0.134->matplot->-r requirements.txt (line 3)) (2020.12.5)\n",
      "Requirement already satisfied: chardet<5,>=3.0.2 in /opt/scp/software/Python/3.9.5-GCCcore-10.3.0/lib/python3.9/site-packages (from requests>=2.20->twine->pyloco>=0.0.134->matplot->-r requirements.txt (line 3)) (4.0.0)\n",
      "Requirement already satisfied: cryptography>=2.0 in /opt/scp/software/Python/3.9.5-GCCcore-10.3.0/lib/python3.9/site-packages (from SecretStorage>=3.2->keyring>=15.1->twine->pyloco>=0.0.134->matplot->-r requirements.txt (line 3)) (3.4.7)\n",
      "Requirement already satisfied: cffi>=1.12 in /opt/scp/software/Python/3.9.5-GCCcore-10.3.0/lib/python3.9/site-packages (from cryptography>=2.0->SecretStorage>=3.2->keyring>=15.1->twine->pyloco>=0.0.134->matplot->-r requirements.txt (line 3)) (1.14.5)\n",
      "Requirement already satisfied: pycparser in /opt/scp/software/Python/3.9.5-GCCcore-10.3.0/lib/python3.9/site-packages (from cffi>=1.12->cryptography>=2.0->SecretStorage>=3.2->keyring>=15.1->twine->pyloco>=0.0.134->matplot->-r requirements.txt (line 3)) (2.20)\n",
      "\u001b[33mWARNING: You are using pip version 21.1.1; however, version 22.0.4 is available.\n",
      "You should consider upgrading via the '/opt/scp/software/Python/3.9.5-GCCcore-10.3.0/bin/python3.9 -m pip install --upgrade pip' command.\u001b[0m\n"
     ]
    }
   ],
   "source": [
    "! pip install -r ../requirements.txt"
   ]
  },
  {
   "cell_type": "markdown",
   "id": "fb7568cd-f92b-49b1-9709-7bde2332c0f6",
   "metadata": {},
   "source": [
    "### If you are working in the docker container from the resp. start here:"
   ]
  },
  {
   "cell_type": "code",
   "execution_count": 2,
   "id": "ca334a2a-d92e-4276-8287-28d4959419ae",
   "metadata": {},
   "outputs": [],
   "source": [
    "from utils import *"
   ]
  },
  {
   "cell_type": "markdown",
   "id": "f10b7c7c-5f5f-49d6-9565-049240600435",
   "metadata": {},
   "source": [
    "## Load & inspect data"
   ]
  },
  {
   "cell_type": "code",
   "execution_count": 3,
   "id": "c5ca14b6-0fd6-41f0-819c-e37da6338180",
   "metadata": {},
   "outputs": [],
   "source": [
    "# SIMCLR LIGHT \n",
    "folder_simclr_light_train = 'Camelyon16/simclr/light/no_cutout/train_test/ShuffledTest00_50_ShuffledPartitions3_0/plots/epoch_-1_train_fullSize'\n",
    "folder_simclr_light_test = 'Camelyon16/simclr/light/no_cutout/test_tumor/ShuffledTest00_50_ShuffledPartitions3_0/plots/epoch_-1_train_fullSize'"
   ]
  },
  {
   "cell_type": "code",
   "execution_count": 5,
   "id": "8b1dd0f4-d36a-48c7-b5fc-ed7dfea6f0b3",
   "metadata": {},
   "outputs": [],
   "source": [
    "embeddings_simclr_light_train, classes_simclr_light_train, patch_information_simclr_light_train = load_data(folder_simclr_light_train)\n",
    "embeddings_simclr_light_train, embeddings_simclr_light_test, classes_simclr_light_train, classes_simclr_light_test, patch_information_simclr_light_train, patch_information_simclr_light_test = sort_train_test(embeddings_simclr_light_train, classes_simclr_light_train, patch_information_simclr_light_train)"
   ]
  },
  {
   "cell_type": "code",
   "execution_count": 6,
   "id": "c0d2cb7d-c2e5-42cb-b2a3-a46802727bd4",
   "metadata": {
    "collapsed": true,
    "jupyter": {
     "outputs_hidden": true
    },
    "tags": []
   },
   "outputs": [
    {
     "name": "stdout",
     "output_type": "stream",
     "text": [
      "---------------- EMBEDDING -----------------------\n",
      "[4.43824707e-03 0.00000000e+00 4.85100783e-03 0.00000000e+00\n",
      " 2.73922756e-02 3.01571656e-02 1.51724024e-02 5.95806725e-02\n",
      " 3.42769618e-03 2.54267566e-02 3.15727368e-02 2.71931617e-03\n",
      " 9.31664195e-04 2.84320116e-02 8.63173604e-03 2.27747881e-03\n",
      " 0.00000000e+00 4.80669725e-04 4.46337685e-02 6.74742600e-03\n",
      " 4.14399692e-04 3.51954773e-02 1.33001041e-02 1.03076110e-02\n",
      " 1.14928354e-02 1.10553280e-01 6.96658790e-02 2.01214738e-02\n",
      " 9.43408906e-03 6.24747155e-03 2.41223611e-02 2.64235977e-02\n",
      " 1.71344052e-03 3.92564610e-02 0.00000000e+00 7.46504345e-04\n",
      " 8.37331638e-02 8.93504843e-02 5.47695346e-02 8.93978588e-03\n",
      " 6.99995371e-06 2.26742849e-02 1.46311626e-01 1.86508149e-01\n",
      " 1.27776444e-03 9.75845847e-03 7.27771688e-03 0.00000000e+00\n",
      " 2.89722383e-02 0.00000000e+00 2.07755645e-03 1.79124661e-02\n",
      " 0.00000000e+00 1.64572373e-01 9.56555479e-04 6.21350529e-03\n",
      " 7.58787864e-05 1.38266250e-01 6.12072460e-02 7.94471949e-02\n",
      " 2.62525752e-02 1.85896140e-02 7.43072946e-03 1.46023445e-02\n",
      " 9.15105920e-03 1.08137447e-02 5.87892893e-04 3.04289442e-02\n",
      " 1.06169414e-02 1.89020634e-02 9.59803835e-02 4.24551684e-03\n",
      " 1.54472309e-05 7.86848366e-04 2.72929184e-02 0.00000000e+00\n",
      " 6.27689064e-02 0.00000000e+00 3.14244092e-01 4.22286382e-03\n",
      " 0.00000000e+00 1.71464588e-02 1.01970090e-02 3.64173390e-02\n",
      " 0.00000000e+00 2.08376739e-02 1.19022476e-02 3.91394788e-05\n",
      " 6.90989345e-02 3.46827350e-04 6.25537187e-02 9.37357720e-04\n",
      " 2.74412800e-02 0.00000000e+00 1.67049579e-02 1.96782616e-03\n",
      " 1.68885745e-03 2.99532455e-03 5.67808002e-03 1.33764401e-01\n",
      " 1.31200277e-03 7.99524877e-03 2.63227685e-03 1.59811461e-04\n",
      " 4.91942726e-02 7.03263581e-02 2.13448111e-05 1.44792050e-02\n",
      " 7.70915160e-03 0.00000000e+00 7.88720977e-03 1.19538538e-01\n",
      " 3.81761231e-04 0.00000000e+00 1.88335896e-01 1.24865631e-03\n",
      " 2.21690489e-03 2.92537287e-02 3.17371357e-03 0.00000000e+00\n",
      " 1.75227149e-04 0.00000000e+00 4.10429342e-03 3.97496810e-03\n",
      " 1.13549038e-04 5.93554834e-03 8.22746102e-03 6.90070679e-03\n",
      " 2.80563417e-03 2.37640794e-04 6.80828700e-03 4.10743384e-03\n",
      " 3.10138287e-03 7.15659186e-02 6.77685887e-02 1.34546056e-01\n",
      " 5.68683222e-02 3.62503901e-02 2.92675514e-02 7.68510550e-02\n",
      " 1.36660904e-01 2.64686998e-03 1.80440649e-04 1.44028198e-03\n",
      " 5.39939036e-04 4.08485910e-04 0.00000000e+00 7.57339271e-03\n",
      " 2.07421705e-01 0.00000000e+00 3.71152564e-04 2.79464852e-02\n",
      " 2.47803424e-03 2.61523761e-03 4.23034420e-04 1.31603023e-02\n",
      " 0.00000000e+00 7.10241357e-03 1.41298333e-02 0.00000000e+00\n",
      " 2.48956028e-02 9.84665453e-02 5.83963469e-03 2.28363678e-01\n",
      " 3.00076269e-02 0.00000000e+00 1.16509600e-02 1.87635992e-03\n",
      " 1.86866196e-03 4.80789575e-04 1.29485920e-01 5.28104044e-03\n",
      " 5.31698170e-04 3.78972292e-03 2.66253739e-03 8.84969011e-02\n",
      " 1.87607331e-03 1.50226231e-03 5.06016985e-03 7.84312069e-05\n",
      " 2.68873628e-02 0.00000000e+00 2.00062785e-02 9.45752300e-03\n",
      " 1.33478353e-02 6.17332058e-03 3.17360368e-03 0.00000000e+00\n",
      " 1.14960866e-02 8.05384219e-02 5.83806932e-02 0.00000000e+00\n",
      " 4.93832777e-05 1.58775540e-04 0.00000000e+00 2.14097369e-02\n",
      " 2.20719259e-04 1.95781089e-04 1.40763307e-02 5.44498526e-02\n",
      " 4.55474947e-03 0.00000000e+00 1.11681654e-03 4.49456507e-04\n",
      " 1.06003121e-01 3.93031240e-02 3.38761311e-04 1.42355938e-03\n",
      " 2.61140037e-02 8.87770206e-04 1.06097534e-02 3.47534218e-03\n",
      " 9.46085714e-03 7.49664474e-03 0.00000000e+00 3.62543185e-04\n",
      " 5.65166725e-03 6.32212847e-04 3.56067531e-02 0.00000000e+00\n",
      " 5.17688841e-02 9.95839164e-02 8.75811733e-04 1.45356345e-03\n",
      " 3.44917760e-03 5.76266553e-03 3.86590995e-02 1.96940694e-02\n",
      " 9.16211586e-03 5.21956012e-04 1.33117836e-03 3.04692704e-02\n",
      " 1.28534352e-02 6.04209118e-02 5.31359902e-03 2.05561426e-02\n",
      " 5.01764193e-03 8.68632719e-02 2.04253709e-03 0.00000000e+00\n",
      " 8.29040166e-03 3.41159478e-03 4.27455530e-02 6.98646083e-02\n",
      " 1.40626426e-03 0.00000000e+00 5.08041703e-04 8.48719291e-03\n",
      " 1.38207062e-04 5.72138913e-02 1.86161464e-03 0.00000000e+00\n",
      " 1.18258351e-03 1.09195232e-03 9.72645450e-03 7.09827468e-02\n",
      " 3.33484332e-03 4.19199886e-03 2.91163265e-03 2.81004398e-03\n",
      " 4.21490055e-03 6.63783401e-03 0.00000000e+00 2.45726686e-02\n",
      " 2.23910511e-02 3.60644199e-02 1.78241029e-01 5.86383417e-02\n",
      " 3.30738979e-03 5.39868772e-02 0.00000000e+00 2.53025885e-03\n",
      " 3.23108793e-03 3.44069325e-03 3.46729904e-02 5.30880466e-02\n",
      " 1.00094117e-02 6.04227260e-02 8.76266062e-02 9.63355182e-04\n",
      " 1.21266590e-02 1.33244023e-02 1.98698472e-02 0.00000000e+00\n",
      " 8.76798853e-02 5.32290898e-03 5.87918013e-02 1.98911875e-03\n",
      " 0.00000000e+00 3.50314484e-04 1.02754869e-01 3.00152763e-03\n",
      " 3.80065234e-04 8.85239895e-03 3.07819936e-02 1.44060748e-03\n",
      " 1.24772517e-02 4.05759132e-03 1.05984226e-01 1.75885633e-02\n",
      " 2.74157152e-04 6.81588724e-02 5.84977828e-02 7.61138625e-04\n",
      " 1.13483509e-02 7.79640279e-04 1.63814169e-03 1.27741380e-03\n",
      " 0.00000000e+00 6.09929790e-04 1.37053672e-02 9.49061383e-03\n",
      " 6.33719042e-02 1.58535293e-03 2.31076055e-03 5.13041206e-02\n",
      " 4.18970361e-03 0.00000000e+00 3.33029195e-03 6.93017319e-02\n",
      " 9.26957950e-02 1.22520151e-02 1.49794773e-03 2.03363225e-02\n",
      " 6.12498447e-02 1.51487924e-02 4.44485918e-02 1.05196992e-02\n",
      " 1.45136816e-02 3.46826226e-03 3.27425805e-04 0.00000000e+00\n",
      " 4.94473912e-02 2.71302648e-02 0.00000000e+00 3.75563987e-02\n",
      " 3.61915468e-03 8.96392204e-03 2.82336399e-03 3.24314274e-02\n",
      " 2.32810006e-02 9.80194774e-04 0.00000000e+00 1.90526934e-03\n",
      " 1.35713378e-02 0.00000000e+00 0.00000000e+00 0.00000000e+00\n",
      " 5.40317781e-02 4.30889949e-02 4.88176430e-03 2.69569401e-02\n",
      " 1.10285617e-01 0.00000000e+00 3.71104828e-03 1.61104817e-02\n",
      " 1.74114518e-02 3.03863315e-04 1.38742835e-04 3.56901204e-04\n",
      " 2.64614308e-03 2.04837266e-02 7.30508491e-02 9.66250605e-04\n",
      " 1.10782972e-02 1.36082049e-03 2.61877850e-03 9.73703060e-03\n",
      " 3.91550158e-04 2.28486650e-04 4.49488461e-02 3.30309570e-02\n",
      " 0.00000000e+00 3.05761117e-02 5.08295931e-02 4.94217493e-05\n",
      " 5.25434641e-03 3.08809243e-02 7.40993419e-04 1.03410952e-01\n",
      " 2.02806480e-03 1.87569507e-03 3.32211778e-02 6.74661901e-03\n",
      " 1.51636675e-02 3.39090620e-04 4.20584269e-02 0.00000000e+00\n",
      " 1.04483262e-01 1.12036987e-05 5.55986464e-02 1.23095624e-02\n",
      " 2.65792222e-03 2.18937150e-03 5.02044428e-03 8.25949421e-04\n",
      " 3.37750055e-02 4.80431590e-05 3.16650199e-04 5.29549923e-03\n",
      " 3.74508905e-03 1.27528084e-03 3.57528515e-02 2.87453382e-04\n",
      " 7.11252040e-04 0.00000000e+00 6.35977703e-05 2.88824649e-05\n",
      " 1.59113277e-02 7.23960751e-04 3.59962359e-02 9.47348326e-02\n",
      " 6.97228983e-02 0.00000000e+00 2.10415293e-02 2.38764118e-02\n",
      " 3.75404750e-04 3.55748663e-04 7.08683534e-03 3.61048675e-04\n",
      " 4.25064936e-03 0.00000000e+00 7.34158268e-04 1.20754493e-02\n",
      " 1.56489816e-02 2.72351172e-04 1.27255946e-04 1.65923173e-03\n",
      " 4.83184718e-02 4.82217362e-03 1.87799111e-02 5.35302199e-02\n",
      " 5.73080964e-03 4.13481705e-02 1.30808605e-02 4.01693210e-02\n",
      " 5.51936042e-04 0.00000000e+00 0.00000000e+00 3.06428483e-05\n",
      " 1.27448132e-02 6.01489609e-03 5.06547047e-03 8.50525685e-03\n",
      " 2.73296870e-02 6.70732744e-03 0.00000000e+00 5.05977031e-03\n",
      " 1.48312993e-05 0.00000000e+00 0.00000000e+00 1.35208722e-02\n",
      " 4.47854660e-02 8.52538273e-02 0.00000000e+00 9.78183933e-03\n",
      " 2.07339823e-02 6.40726974e-03 3.14364024e-03 1.52844249e-03\n",
      " 2.87201750e-04 2.99466662e-02 2.36570253e-03 5.20913377e-02\n",
      " 0.00000000e+00 1.80329152e-04 9.57470154e-04 1.38287954e-02\n",
      " 2.06202269e-02 8.11823085e-02 6.15839940e-03 1.61060572e-01\n",
      " 2.52343540e-04 2.64282408e-03 8.86914378e-04 8.93706456e-05\n",
      " 1.71365999e-02 1.15200216e-02 2.14070436e-02 3.83792503e-04\n",
      " 3.47449370e-02 6.09242655e-02 3.10794637e-03 8.42916891e-02\n",
      " 7.57502997e-03 8.00679326e-02 3.90110239e-02 9.82860662e-03\n",
      " 1.83155481e-02 4.66047550e-06 1.45336133e-04 1.59950083e-04\n",
      " 9.73197967e-02 8.90949834e-03 1.81305483e-01 1.05099138e-02\n",
      " 0.00000000e+00 3.87728564e-04 8.00316280e-04 1.60162076e-01\n",
      " 2.62365304e-02 1.26024080e-03 3.55140530e-02 1.37995719e-03\n",
      " 4.89949472e-02 0.00000000e+00 0.00000000e+00 1.15659775e-03\n",
      " 7.17613474e-03 2.12937649e-02 6.46745786e-02 0.00000000e+00]\n",
      "---------------- CLASS -----------------------\n",
      "0\n",
      "---------------- PATCH INFORMATION -----------------------\n",
      "memorymaps/training/normal_006/mpp_3.89,4,299,3289,4485\n"
     ]
    }
   ],
   "source": [
    "print_data(9999, embeddings_simclr_light_train, classes_simclr_light_train, patch_information_simclr_light_train)"
   ]
  },
  {
   "cell_type": "code",
   "execution_count": 7,
   "id": "4bc2704d-400c-4398-b105-81beede81b97",
   "metadata": {},
   "outputs": [
    {
     "name": "stdout",
     "output_type": "stream",
     "text": [
      "-----------NUM simclr_light EMBEDDINGS TRAIN-------------\n",
      "1353990\n",
      "-----------NUM simclr_light EMBEDDINGS TEST-------------\n",
      "701967\n",
      "------------------------\n"
     ]
    }
   ],
   "source": [
    "print(\"-----------NUM simclr_light EMBEDDINGS TRAIN-------------\")\n",
    "print(len(embeddings_simclr_light_train))\n",
    "print(\"-----------NUM simclr_light EMBEDDINGS TEST-------------\")\n",
    "print(len(embeddings_simclr_light_test))\n",
    "print(\"------------------------\")"
   ]
  },
  {
   "cell_type": "markdown",
   "id": "3d922a2e-5c32-4aa1-abad-4539ead1633a",
   "metadata": {},
   "source": [
    "## Gradient Boosting"
   ]
  },
  {
   "cell_type": "markdown",
   "id": "49c2c5fd-c218-4210-84d4-53dfa890d70f",
   "metadata": {},
   "source": [
    "### Percentage tests"
   ]
  },
  {
   "cell_type": "code",
   "execution_count": 9,
   "id": "c1776fe9-0df5-4b51-8ee0-21e6f7bf9061",
   "metadata": {},
   "outputs": [
    {
     "name": "stdout",
     "output_type": "stream",
     "text": [
      "---------------------------------------\n",
      "PERCENTAGE: 10.0% OF DATASET, NUMBER EMBEDDINGS: 135399\n",
      "HYPERPARAMETERS: learning_rate = 0.1, n_estimators = 100, max_depth = 3, min_samples_split = 2,  min_samples_leaf = 1, max_features = None\n",
      "RUNTIME IN SEC: 2350.2692749500275\n",
      "ACCURACY:\n",
      "0.9521786636693748\n",
      "AUC & ROC CURVE:\n"
     ]
    },
    {
     "data": {
      "image/png": "[encoded data removed]",
      "text/plain": [
       "<Figure size 432x288 with 1 Axes>"
      ]
     },
     "metadata": {
      "needs_background": "light"
     },
     "output_type": "display_data"
    },
    {
     "name": "stdout",
     "output_type": "stream",
     "text": [
      "PRECISION RECALL CURVE:\n"
     ]
    },
    {
     "data": {
      "image/png": "[encoded data removed]",
      "text/plain": [
       "<Figure size 432x288 with 1 Axes>"
      ]
     },
     "metadata": {
      "needs_background": "light"
     },
     "output_type": "display_data"
    },
    {
     "name": "stdout",
     "output_type": "stream",
     "text": [
      "CONFUSION MATRIX:\n"
     ]
    },
    {
     "data": {
      "image/png": "[encoded data removed]",
      "text/plain": [
       "<Figure size 432x288 with 2 Axes>"
      ]
     },
     "metadata": {
      "needs_background": "light"
     },
     "output_type": "display_data"
    },
    {
     "name": "stdout",
     "output_type": "stream",
     "text": [
      "---------------------------------------\n"
     ]
    }
   ],
   "source": [
    "runGBPercentage(embeddings_simclr_light_train, classes_simclr_light_train, embeddings_simclr_light_test, classes_simclr_light_test, [0.1])"
   ]
  }
 ],
 "metadata": {
  "kernelspec": {
   "display_name": "Python 3 (ipykernel)",
   "language": "python",
   "name": "python3"
  },
  "language_info": {
   "codemirror_mode": {
    "name": "ipython",
    "version": 3
   },
   "file_extension": ".py",
   "mimetype": "text/x-python",
   "name": "python",
   "nbconvert_exporter": "python",
   "pygments_lexer": "ipython3",
   "version": "3.10.4"
  }
 },
 "nbformat": 4,
 "nbformat_minor": 5
}
