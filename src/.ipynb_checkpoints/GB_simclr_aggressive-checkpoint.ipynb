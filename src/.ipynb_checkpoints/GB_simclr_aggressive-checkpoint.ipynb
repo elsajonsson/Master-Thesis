{
 "cells": [
  {
   "cell_type": "markdown",
   "id": "ae048a22-dcb2-4d09-acdf-ff6efc9d2398",
   "metadata": {},
   "source": [
    "# Clustering of DIME embeddings of WSI patches"
   ]
  },
  {
   "cell_type": "markdown",
   "id": "ebdd7210-101e-44d7-b3bc-c977e03ba263",
   "metadata": {},
   "source": [
    "### By Elsa Jonsson, Embeddings provided by AstraZeneca\n",
    "\n",
    "In this notebook i will take DIME embeddings of tumour patches of the Camelyon16 dataset and create a binary classifier using a Gradient Boosting network"
   ]
  },
  {
   "cell_type": "markdown",
   "id": "f04038ef-2ce4-434a-9423-b6d7ffdd0734",
   "metadata": {},
   "source": [
    "### If not working in my docker container, run this line first:"
   ]
  },
  {
   "cell_type": "code",
   "execution_count": 1,
   "id": "9ecb1601-552f-4703-89ee-e5ebdf92cfb0",
   "metadata": {
    "collapsed": true,
    "jupyter": {
     "outputs_hidden": true
    },
    "tags": []
   },
   "outputs": [
    {
     "name": "stdout",
     "output_type": "stream",
     "text": [
      "Defaulting to user installation because normal site-packages is not writeable\n",
      "Requirement already satisfied: scikit-image in /home/kzmq426/.local/lib/python3.9/site-packages (from -r requirements.txt (line 1)) (0.19.2)\n",
      "Requirement already satisfied: sklearn in /home/kzmq426/.local/lib/python3.9/site-packages (from -r requirements.txt (line 2)) (0.0)\n",
      "Requirement already satisfied: matplot in /home/kzmq426/.local/lib/python3.9/site-packages (from -r requirements.txt (line 3)) (0.1.9)\n",
      "Requirement already satisfied: numpy in /home/kzmq426/.local/lib/python3.9/site-packages (from -r requirements.txt (line 4)) (1.21.5)\n",
      "Requirement already satisfied: scipy in /home/kzmq426/.local/lib/python3.9/site-packages (from -r requirements.txt (line 5)) (1.8.0)\n",
      "Requirement already satisfied: pandas in /home/kzmq426/.local/lib/python3.9/site-packages (from -r requirements.txt (line 6)) (1.4.1)\n",
      "Requirement already satisfied: virtualenv in /opt/scp/software/Python/3.9.5-GCCcore-10.3.0/lib/python3.9/site-packages (from -r requirements.txt (line 7)) (20.4.6)\n",
      "Requirement already satisfied: seaborn in /home/kzmq426/.local/lib/python3.9/site-packages (from -r requirements.txt (line 8)) (0.11.2)\n",
      "Requirement already satisfied: umap-learn in /home/kzmq426/.local/lib/python3.9/site-packages (from -r requirements.txt (line 9)) (0.5.2)\n",
      "Requirement already satisfied: matplotlib in /home/kzmq426/.local/lib/python3.9/site-packages (from -r requirements.txt (line 10)) (3.5.1)\n",
      "Requirement already satisfied: mlxtend in /home/kzmq426/.local/lib/python3.9/site-packages (from -r requirements.txt (line 11)) (0.19.0)\n",
      "Requirement already satisfied: imageio>=2.4.1 in /home/kzmq426/.local/lib/python3.9/site-packages (from scikit-image->-r requirements.txt (line 1)) (2.16.1)\n",
      "Requirement already satisfied: tifffile>=2019.7.26 in /home/kzmq426/.local/lib/python3.9/site-packages (from scikit-image->-r requirements.txt (line 1)) (2022.2.9)\n",
      "Requirement already satisfied: pillow!=7.1.0,!=7.1.1,!=8.3.0,>=6.1.0 in /home/kzmq426/.local/lib/python3.9/site-packages (from scikit-image->-r requirements.txt (line 1)) (9.0.1)\n",
      "Requirement already satisfied: PyWavelets>=1.1.1 in /home/kzmq426/.local/lib/python3.9/site-packages (from scikit-image->-r requirements.txt (line 1)) (1.2.0)\n",
      "Requirement already satisfied: networkx>=2.2 in /home/kzmq426/.local/lib/python3.9/site-packages (from scikit-image->-r requirements.txt (line 1)) (2.7)\n",
      "Requirement already satisfied: packaging>=20.0 in /opt/scp/software/Python/3.9.5-GCCcore-10.3.0/lib/python3.9/site-packages (from scikit-image->-r requirements.txt (line 1)) (20.9)\n",
      "Requirement already satisfied: pyparsing>=2.0.2 in /opt/scp/software/Python/3.9.5-GCCcore-10.3.0/lib/python3.9/site-packages (from packaging>=20.0->scikit-image->-r requirements.txt (line 1)) (2.4.7)\n",
      "Requirement already satisfied: scikit-learn in /home/kzmq426/.local/lib/python3.9/site-packages (from sklearn->-r requirements.txt (line 2)) (1.0.2)\n",
      "Requirement already satisfied: pyloco>=0.0.134 in /home/kzmq426/.local/lib/python3.9/site-packages (from matplot->-r requirements.txt (line 3)) (0.0.139)\n",
      "Requirement already satisfied: fonttools>=4.22.0 in /home/kzmq426/.local/lib/python3.9/site-packages (from matplotlib->-r requirements.txt (line 10)) (4.29.1)\n",
      "Requirement already satisfied: kiwisolver>=1.0.1 in /home/kzmq426/.local/lib/python3.9/site-packages (from matplotlib->-r requirements.txt (line 10)) (1.3.2)\n",
      "Requirement already satisfied: cycler>=0.10 in /home/kzmq426/.local/lib/python3.9/site-packages (from matplotlib->-r requirements.txt (line 10)) (0.11.0)\n",
      "Requirement already satisfied: python-dateutil>=2.7 in /opt/scp/software/Python/3.9.5-GCCcore-10.3.0/lib/python3.9/site-packages (from matplotlib->-r requirements.txt (line 10)) (2.8.1)\n",
      "Requirement already satisfied: ushlex in /home/kzmq426/.local/lib/python3.9/site-packages (from pyloco>=0.0.134->matplot->-r requirements.txt (line 3)) (0.99.1)\n",
      "Requirement already satisfied: twine in /home/kzmq426/.local/lib/python3.9/site-packages (from pyloco>=0.0.134->matplot->-r requirements.txt (line 3)) (3.8.0)\n",
      "Requirement already satisfied: SimpleWebSocketServer in /home/kzmq426/.local/lib/python3.9/site-packages (from pyloco>=0.0.134->matplot->-r requirements.txt (line 3)) (0.1.1)\n",
      "Requirement already satisfied: typing in /home/kzmq426/.local/lib/python3.9/site-packages (from pyloco>=0.0.134->matplot->-r requirements.txt (line 3)) (3.7.4.3)\n",
      "Requirement already satisfied: websocket-client in /opt/scp/software/JupyterLab/3.1.0-GCCcore-10.3.0/lib/python3.9/site-packages (from pyloco>=0.0.134->matplot->-r requirements.txt (line 3)) (1.1.0)\n",
      "Requirement already satisfied: six>=1.5 in /opt/scp/software/Python/3.9.5-GCCcore-10.3.0/lib/python3.9/site-packages (from python-dateutil>=2.7->matplotlib->-r requirements.txt (line 10)) (1.16.0)\n",
      "Requirement already satisfied: pytz>=2020.1 in /opt/scp/software/Python/3.9.5-GCCcore-10.3.0/lib/python3.9/site-packages (from pandas->-r requirements.txt (line 6)) (2021.1)\n",
      "Requirement already satisfied: filelock<4,>=3.0.0 in /opt/scp/software/Python/3.9.5-GCCcore-10.3.0/lib/python3.9/site-packages (from virtualenv->-r requirements.txt (line 7)) (3.0.12)\n",
      "Requirement already satisfied: distlib<1,>=0.3.1 in /opt/scp/software/Python/3.9.5-GCCcore-10.3.0/lib/python3.9/site-packages (from virtualenv->-r requirements.txt (line 7)) (0.3.1)\n",
      "Requirement already satisfied: appdirs<2,>=1.4.3 in /opt/scp/software/Python/3.9.5-GCCcore-10.3.0/lib/python3.9/site-packages (from virtualenv->-r requirements.txt (line 7)) (1.4.4)\n",
      "Requirement already satisfied: pynndescent>=0.5 in /home/kzmq426/.local/lib/python3.9/site-packages (from umap-learn->-r requirements.txt (line 9)) (0.5.6)\n",
      "Requirement already satisfied: tqdm in /home/kzmq426/.local/lib/python3.9/site-packages (from umap-learn->-r requirements.txt (line 9)) (4.63.0)\n",
      "Requirement already satisfied: numba>=0.49 in /home/kzmq426/.local/lib/python3.9/site-packages (from umap-learn->-r requirements.txt (line 9)) (0.55.1)\n",
      "Requirement already satisfied: setuptools in /opt/scp/software/Python/3.9.5-GCCcore-10.3.0/lib/python3.9/site-packages (from numba>=0.49->umap-learn->-r requirements.txt (line 9)) (56.2.0)\n",
      "Requirement already satisfied: llvmlite<0.39,>=0.38.0rc1 in /home/kzmq426/.local/lib/python3.9/site-packages (from numba>=0.49->umap-learn->-r requirements.txt (line 9)) (0.38.0)\n",
      "Requirement already satisfied: joblib>=0.11 in /opt/scp/software/Python/3.9.5-GCCcore-10.3.0/lib/python3.9/site-packages (from pynndescent>=0.5->umap-learn->-r requirements.txt (line 9)) (1.0.1)\n",
      "Requirement already satisfied: threadpoolctl>=2.0.0 in /opt/scp/software/Python/3.9.5-GCCcore-10.3.0/lib/python3.9/site-packages (from scikit-learn->sklearn->-r requirements.txt (line 2)) (2.1.0)\n",
      "Requirement already satisfied: colorama>=0.4.3 in /opt/scp/software/Python/3.9.5-GCCcore-10.3.0/lib/python3.9/site-packages (from twine->pyloco>=0.0.134->matplot->-r requirements.txt (line 3)) (0.4.4)\n",
      "Requirement already satisfied: requests>=2.20 in /opt/scp/software/Python/3.9.5-GCCcore-10.3.0/lib/python3.9/site-packages (from twine->pyloco>=0.0.134->matplot->-r requirements.txt (line 3)) (2.25.1)\n",
      "Requirement already satisfied: readme-renderer>=21.0 in /home/kzmq426/.local/lib/python3.9/site-packages (from twine->pyloco>=0.0.134->matplot->-r requirements.txt (line 3)) (32.0)\n",
      "Requirement already satisfied: rfc3986>=1.4.0 in /home/kzmq426/.local/lib/python3.9/site-packages (from twine->pyloco>=0.0.134->matplot->-r requirements.txt (line 3)) (2.0.0)\n",
      "Requirement already satisfied: importlib-metadata>=3.6 in /home/kzmq426/.local/lib/python3.9/site-packages (from twine->pyloco>=0.0.134->matplot->-r requirements.txt (line 3)) (4.11.3)\n",
      "Requirement already satisfied: urllib3>=1.26.0 in /opt/scp/software/Python/3.9.5-GCCcore-10.3.0/lib/python3.9/site-packages (from twine->pyloco>=0.0.134->matplot->-r requirements.txt (line 3)) (1.26.4)\n",
      "Requirement already satisfied: keyring>=15.1 in /opt/scp/software/Python/3.9.5-GCCcore-10.3.0/lib/python3.9/site-packages (from twine->pyloco>=0.0.134->matplot->-r requirements.txt (line 3)) (21.8.0)\n",
      "Requirement already satisfied: requests-toolbelt!=0.9.0,>=0.8.0 in /opt/scp/software/Python/3.9.5-GCCcore-10.3.0/lib/python3.9/site-packages (from twine->pyloco>=0.0.134->matplot->-r requirements.txt (line 3)) (0.9.1)\n",
      "Requirement already satisfied: pkginfo>=1.8.1 in /home/kzmq426/.local/lib/python3.9/site-packages (from twine->pyloco>=0.0.134->matplot->-r requirements.txt (line 3)) (1.8.2)\n",
      "Requirement already satisfied: zipp>=0.5 in /opt/scp/software/Python/3.9.5-GCCcore-10.3.0/lib/python3.9/site-packages (from importlib-metadata>=3.6->twine->pyloco>=0.0.134->matplot->-r requirements.txt (line 3)) (3.4.1)\n",
      "Requirement already satisfied: jeepney>=0.4.2 in /opt/scp/software/Python/3.9.5-GCCcore-10.3.0/lib/python3.9/site-packages (from keyring>=15.1->twine->pyloco>=0.0.134->matplot->-r requirements.txt (line 3)) (0.6.0)\n",
      "Requirement already satisfied: SecretStorage>=3.2 in /opt/scp/software/Python/3.9.5-GCCcore-10.3.0/lib/python3.9/site-packages (from keyring>=15.1->twine->pyloco>=0.0.134->matplot->-r requirements.txt (line 3)) (3.3.1)\n",
      "Requirement already satisfied: Pygments>=2.5.1 in /opt/scp/software/Python/3.9.5-GCCcore-10.3.0/lib/python3.9/site-packages (from readme-renderer>=21.0->twine->pyloco>=0.0.134->matplot->-r requirements.txt (line 3)) (2.9.0)\n",
      "Requirement already satisfied: docutils>=0.13.1 in /opt/scp/software/Python/3.9.5-GCCcore-10.3.0/lib/python3.9/site-packages (from readme-renderer>=21.0->twine->pyloco>=0.0.134->matplot->-r requirements.txt (line 3)) (0.17.1)\n",
      "Requirement already satisfied: bleach>=2.1.0 in /opt/scp/software/IPython/7.25.0-GCCcore-10.3.0/lib/python3.9/site-packages (from readme-renderer>=21.0->twine->pyloco>=0.0.134->matplot->-r requirements.txt (line 3)) (3.3.0)\n",
      "Requirement already satisfied: webencodings in /opt/scp/software/Python/3.9.5-GCCcore-10.3.0/lib/python3.9/site-packages (from bleach>=2.1.0->readme-renderer>=21.0->twine->pyloco>=0.0.134->matplot->-r requirements.txt (line 3)) (0.5.1)\n",
      "Requirement already satisfied: idna<3,>=2.5 in /opt/scp/software/Python/3.9.5-GCCcore-10.3.0/lib/python3.9/site-packages (from requests>=2.20->twine->pyloco>=0.0.134->matplot->-r requirements.txt (line 3)) (2.10)\n",
      "Requirement already satisfied: certifi>=2017.4.17 in /opt/scp/software/Python/3.9.5-GCCcore-10.3.0/lib/python3.9/site-packages (from requests>=2.20->twine->pyloco>=0.0.134->matplot->-r requirements.txt (line 3)) (2020.12.5)\n",
      "Requirement already satisfied: chardet<5,>=3.0.2 in /opt/scp/software/Python/3.9.5-GCCcore-10.3.0/lib/python3.9/site-packages (from requests>=2.20->twine->pyloco>=0.0.134->matplot->-r requirements.txt (line 3)) (4.0.0)\n",
      "Requirement already satisfied: cryptography>=2.0 in /opt/scp/software/Python/3.9.5-GCCcore-10.3.0/lib/python3.9/site-packages (from SecretStorage>=3.2->keyring>=15.1->twine->pyloco>=0.0.134->matplot->-r requirements.txt (line 3)) (3.4.7)\n",
      "Requirement already satisfied: cffi>=1.12 in /opt/scp/software/Python/3.9.5-GCCcore-10.3.0/lib/python3.9/site-packages (from cryptography>=2.0->SecretStorage>=3.2->keyring>=15.1->twine->pyloco>=0.0.134->matplot->-r requirements.txt (line 3)) (1.14.5)\n",
      "Requirement already satisfied: pycparser in /opt/scp/software/Python/3.9.5-GCCcore-10.3.0/lib/python3.9/site-packages (from cffi>=1.12->cryptography>=2.0->SecretStorage>=3.2->keyring>=15.1->twine->pyloco>=0.0.134->matplot->-r requirements.txt (line 3)) (2.20)\n",
      "\u001b[33mWARNING: You are using pip version 21.1.1; however, version 22.0.4 is available.\n",
      "You should consider upgrading via the '/opt/scp/software/Python/3.9.5-GCCcore-10.3.0/bin/python3.9 -m pip install --upgrade pip' command.\u001b[0m\n"
     ]
    }
   ],
   "source": [
    "! pip install -r ../requirements.txt"
   ]
  },
  {
   "cell_type": "markdown",
   "id": "fb7568cd-f92b-49b1-9709-7bde2332c0f6",
   "metadata": {},
   "source": [
    "### If you are working in the docker container from the resp. start here:"
   ]
  },
  {
   "cell_type": "code",
   "execution_count": 2,
   "id": "ca334a2a-d92e-4276-8287-28d4959419ae",
   "metadata": {},
   "outputs": [],
   "source": [
    "from utils import *"
   ]
  },
  {
   "cell_type": "markdown",
   "id": "f10b7c7c-5f5f-49d6-9565-049240600435",
   "metadata": {},
   "source": [
    "## Load & inspect data"
   ]
  },
  {
   "cell_type": "code",
   "execution_count": 3,
   "id": "c5ca14b6-0fd6-41f0-819c-e37da6338180",
   "metadata": {},
   "outputs": [],
   "source": [
    "# SIMCLR aggressive \n",
    "folder_simclr_aggressive_train = 'Camelyon16/simclr/aggressive/no_cutout/train_test/ShuffledTest00_50_ShuffledPartitions3_0/plots/epoch_-1_train_fullSize'\n",
    "folder_simclr_aggressive_test = 'Camelyon16/simclr/aggressive/no_cutout/test_tumor/ShuffledTest00_50_ShuffledPartitions3_0/plots/epoch_-1_train_fullSize'"
   ]
  },
  {
   "cell_type": "code",
   "execution_count": 5,
   "id": "8b1dd0f4-d36a-48c7-b5fc-ed7dfea6f0b3",
   "metadata": {},
   "outputs": [],
   "source": [
    "embeddings_simclr_aggressive_train, classes_simclr_aggressive_train, patch_information_simclr_aggressive_train = load_data(folder_simclr_aggressive_train)\n",
    "embeddings_simclr_aggressive_train, embeddings_simclr_aggressive_test, classes_simclr_aggressive_train, classes_simclr_aggressive_test, patch_information_simclr_aggressive_train, patch_information_simclr_aggressive_test = sort_train_test(embeddings_simclr_aggressive_train, classes_simclr_aggressive_train, patch_information_simclr_aggressive_train)"
   ]
  },
  {
   "cell_type": "code",
   "execution_count": 6,
   "id": "c0d2cb7d-c2e5-42cb-b2a3-a46802727bd4",
   "metadata": {
    "collapsed": true,
    "jupyter": {
     "outputs_hidden": true
    },
    "tags": []
   },
   "outputs": [
    {
     "name": "stdout",
     "output_type": "stream",
     "text": [
      "---------------- EMBEDDING -----------------------\n",
      "[6.79389462e-02 0.00000000e+00 0.00000000e+00 5.14211729e-02\n",
      " 8.11610520e-02 1.26336552e-02 3.22699314e-04 7.78274387e-02\n",
      " 1.67384725e-02 6.47986531e-02 0.00000000e+00 4.12523113e-02\n",
      " 9.33871567e-02 1.55220705e-03 4.32720128e-03 1.24498375e-01\n",
      " 2.70823147e-02 0.00000000e+00 5.56642748e-02 5.75876683e-02\n",
      " 1.66901015e-02 9.37808398e-03 6.40949458e-02 1.34598222e-02\n",
      " 5.19537777e-02 2.91205067e-02 1.03207298e-01 2.61678640e-03\n",
      " 4.67165746e-02 4.50507998e-02 3.51746008e-02 6.77367253e-03\n",
      " 1.51127941e-04 1.79860916e-03 4.78457287e-03 2.12559234e-02\n",
      " 3.68086211e-02 7.37728253e-02 2.17276104e-02 3.98780704e-02\n",
      " 4.67416568e-04 0.00000000e+00 1.01320529e-02 3.36326696e-02\n",
      " 3.90552916e-02 9.77319106e-03 5.08180959e-03 1.60758998e-02\n",
      " 1.56910112e-03 1.30693393e-03 0.00000000e+00 2.07224977e-03\n",
      " 2.04063207e-02 2.86453441e-02 3.38294953e-02 6.93785632e-03\n",
      " 3.13330106e-02 0.00000000e+00 4.93040271e-02 5.63105270e-02\n",
      " 1.16649875e-02 4.52186838e-02 1.68851521e-02 1.38644280e-03\n",
      " 4.59084171e-04 8.56496394e-02 0.00000000e+00 0.00000000e+00\n",
      " 1.09627042e-02 1.24773150e-02 4.84202988e-02 7.19828298e-03\n",
      " 1.12880981e-02 6.51712865e-02 7.28237303e-03 1.74237124e-03\n",
      " 2.20797062e-02 2.62107402e-02 7.57511258e-02 1.84980053e-02\n",
      " 3.06952745e-03 7.98092484e-02 4.44744900e-02 3.48614622e-03\n",
      " 2.45221853e-02 2.12010127e-02 1.02967424e-05 2.93697286e-02\n",
      " 8.06070641e-02 0.00000000e+00 2.31322013e-02 4.12269831e-02\n",
      " 1.96573213e-02 2.55094259e-03 3.74446134e-03 8.42967723e-03\n",
      " 6.57550395e-02 3.32182902e-03 3.25402543e-02 4.05865386e-02\n",
      " 1.93591742e-03 7.29923174e-02 1.80709995e-02 8.98482092e-03\n",
      " 1.08231567e-02 0.00000000e+00 1.27021139e-02 3.94465681e-03\n",
      " 3.09390808e-03 5.47192249e-05 3.36683616e-02 3.08546284e-03\n",
      " 5.18795177e-02 1.05007330e-03 6.10638759e-04 0.00000000e+00\n",
      " 3.62675899e-04 1.24707848e-01 4.68926737e-03 0.00000000e+00\n",
      " 3.38648669e-02 2.25903140e-03 1.36325415e-02 4.04028073e-02\n",
      " 1.69761311e-02 6.01888448e-02 3.80268283e-02 5.93257137e-03\n",
      " 2.59398278e-02 7.91090429e-02 4.06166017e-02 4.50976007e-02\n",
      " 9.24300328e-02 2.88169133e-03 7.07680965e-03 5.79518825e-03\n",
      " 7.20464205e-03 4.13560569e-02 1.15144276e-03 1.49214920e-02\n",
      " 4.79651466e-02 1.01384282e-01 1.49176149e-02 3.43533495e-04\n",
      " 1.12072760e-02 1.43643143e-02 4.22252528e-02 2.30871569e-02\n",
      " 1.71929672e-01 6.54186867e-03 1.68969203e-03 2.63242871e-02\n",
      " 0.00000000e+00 9.33686122e-02 7.69521669e-02 4.68054408e-04\n",
      " 4.44123708e-02 1.30532160e-01 3.62329893e-02 1.26306433e-02\n",
      " 4.10096347e-02 7.81022769e-04 3.20947700e-04 9.68021676e-02\n",
      " 8.48927498e-02 0.00000000e+00 2.18820721e-02 4.64102402e-02\n",
      " 4.01842818e-02 1.24239419e-02 8.88732821e-02 1.76234618e-02\n",
      " 1.97599104e-04 4.34494251e-03 4.84421558e-04 6.51242286e-02\n",
      " 1.82151608e-02 9.66391340e-02 1.00691514e-02 8.33654925e-02\n",
      " 4.05009650e-03 5.74158086e-03 0.00000000e+00 2.36219633e-02\n",
      " 1.56556323e-01 8.25247262e-03 9.70138386e-02 3.57488549e-04\n",
      " 3.34187075e-02 5.39209228e-03 3.67971845e-02 8.17311171e-04\n",
      " 0.00000000e+00 1.00302687e-02 2.03314088e-02 1.40188327e-02\n",
      " 1.44001663e-01 1.90966930e-02 8.60121697e-02 4.38717455e-02\n",
      " 7.27034931e-04 0.00000000e+00 4.04796787e-02 2.66150455e-03\n",
      " 8.14537110e-04 4.61852960e-02 3.20526958e-02 5.38763311e-03\n",
      " 1.00666564e-02 1.39423469e-02 2.90089147e-03 9.44247376e-03\n",
      " 1.98264029e-02 1.75091513e-02 4.36439924e-02 5.99580118e-03\n",
      " 2.27592587e-02 1.71430334e-02 3.20641063e-02 0.00000000e+00\n",
      " 3.44194695e-02 7.33631030e-02 1.19877867e-02 1.19515859e-01\n",
      " 3.46000167e-03 1.37690362e-03 4.13713269e-02 1.35936243e-02\n",
      " 6.17020503e-02 3.19677480e-02 4.07839641e-02 2.41413107e-03\n",
      " 2.67772879e-02 1.07283238e-03 7.18674064e-03 1.31323915e-02\n",
      " 6.65778220e-02 5.47260642e-02 1.11207545e-01 9.90895089e-03\n",
      " 2.44101626e-03 3.38664249e-04 3.10073444e-03 5.82480512e-04\n",
      " 0.00000000e+00 0.00000000e+00 1.63473859e-02 1.02359079e-01\n",
      " 0.00000000e+00 2.13492516e-04 1.38718178e-02 7.93483667e-03\n",
      " 1.96239389e-02 6.17761612e-02 3.07183713e-03 3.65438610e-02\n",
      " 1.06551535e-02 3.27533780e-04 3.41708548e-02 5.67050476e-04\n",
      " 3.57375331e-02 3.88475955e-02 1.28850285e-02 3.81844081e-02\n",
      " 3.84433419e-02 5.43412678e-02 6.34331107e-02 7.76140913e-02\n",
      " 4.16257046e-03 1.73250008e-02 4.67649885e-02 8.61233473e-02\n",
      " 1.72985848e-02 5.48792668e-02 6.51829969e-03 2.94993594e-02\n",
      " 1.23720951e-01 1.00587495e-02 5.76008856e-02 2.96252128e-03\n",
      " 5.95052307e-03 7.37579598e-04 6.44528959e-03 1.92516693e-03\n",
      " 9.15083662e-02 8.55739191e-02 3.01847458e-02 3.13086472e-02\n",
      " 4.09251358e-03 6.15155809e-02 1.08320035e-01 0.00000000e+00\n",
      " 7.66923360e-04 7.36155920e-03 4.69974737e-04 8.05926919e-02\n",
      " 1.06973462e-02 8.10177880e-05 8.02923460e-03 2.14787084e-04\n",
      " 4.56230082e-02 1.04445964e-02 1.16423087e-03 3.98114836e-03\n",
      " 8.14960990e-03 0.00000000e+00 5.28265991e-06 1.50332926e-02\n",
      " 0.00000000e+00 1.80726051e-02 9.48803136e-05 0.00000000e+00\n",
      " 7.48116337e-03 5.72259584e-03 0.00000000e+00 5.32740552e-04\n",
      " 4.43344703e-03 6.98453337e-02 0.00000000e+00 8.19619596e-02\n",
      " 4.45243604e-02 1.64358877e-03 3.19032650e-03 3.28360386e-02\n",
      " 3.65617387e-02 1.32719222e-02 6.34069741e-02 5.72422966e-02\n",
      " 1.40308193e-03 6.59719051e-04 5.43376431e-03 2.24119537e-02\n",
      " 8.80091917e-03 5.03490632e-03 3.13362777e-02 5.42622176e-04\n",
      " 1.27432691e-02 9.30338632e-03 1.31063852e-02 1.67552121e-02\n",
      " 8.24241247e-03 2.19336198e-06 0.00000000e+00 5.09825302e-03\n",
      " 1.55040091e-02 7.12284669e-02 5.50511293e-02 8.82957205e-02\n",
      " 8.21657537e-04 5.02923615e-02 3.10088322e-02 1.94979704e-03\n",
      " 4.54715174e-03 0.00000000e+00 1.62800439e-02 7.23031089e-02\n",
      " 3.18920519e-03 1.01333007e-01 0.00000000e+00 2.57915322e-04\n",
      " 1.19588422e-02 5.07121049e-02 1.47991300e-01 2.33627576e-02\n",
      " 1.85851920e-02 5.13760522e-02 6.95247054e-02 3.31213069e-03\n",
      " 1.38862024e-03 1.65298004e-02 2.80289371e-02 7.35137006e-03\n",
      " 2.55012754e-02 1.79790996e-03 4.94149141e-02 3.90732712e-05\n",
      " 7.97976367e-03 1.45503804e-02 1.30032133e-02 4.49163206e-02\n",
      " 1.34132311e-01 2.51363218e-02 5.25187561e-03 2.01760698e-03\n",
      " 1.14605557e-02 2.43299417e-02 4.59613372e-03 1.62440203e-02\n",
      " 1.64348702e-03 1.20750209e-03 1.74916582e-04 4.83002374e-03\n",
      " 5.50342947e-02 3.04668378e-02 2.23523681e-03 1.01420349e-02\n",
      " 8.02246039e-04 1.37927243e-03 4.04650383e-02 8.30403762e-04\n",
      " 3.21401581e-02 8.45140821e-05 2.82490248e-04 9.96266231e-02\n",
      " 2.85697490e-04 4.48297756e-03 7.14192283e-05 1.54196599e-03\n",
      " 4.66991309e-03 6.53340146e-02 5.49020991e-03 2.07309192e-03\n",
      " 3.36849061e-03 7.11588794e-03 2.54138075e-02 3.26375198e-03\n",
      " 7.74265779e-03 1.24255875e-02 1.19515904e-03 4.77475524e-02\n",
      " 1.28110304e-01 1.03021283e-02 2.87563931e-02 1.07799530e-01\n",
      " 3.32428068e-02 8.16948246e-03 1.21524930e-01 4.00068983e-03\n",
      " 9.04677343e-03 3.82983615e-03 3.04066017e-03 2.18352047e-03\n",
      " 5.95477857e-02 5.67586021e-03 1.28268987e-01 1.99412578e-04\n",
      " 3.57943363e-02 9.12328032e-05 2.02458445e-02 4.82984334e-02\n",
      " 1.73161912e-04 2.87664793e-02 8.49250879e-04 4.89272214e-02\n",
      " 0.00000000e+00 4.88880873e-02 6.26156703e-02 7.78319780e-03\n",
      " 6.25817978e-04 1.20971194e-02 1.16227670e-02 4.86359291e-04\n",
      " 4.87868264e-02 3.40812840e-02 2.65838415e-03 4.06922819e-03\n",
      " 8.14958382e-03 3.70118814e-03 0.00000000e+00 1.82203315e-02\n",
      " 5.74648976e-02 1.72913335e-02 3.62454099e-04 4.33575734e-02\n",
      " 6.82690144e-02 4.19156207e-03 1.30960066e-02 3.55827413e-03\n",
      " 1.90305908e-03 1.61497369e-02 4.92449477e-02 4.04787324e-02\n",
      " 1.03885224e-02 9.05998722e-02 1.02724638e-02 1.23415794e-02\n",
      " 1.39129490e-01 2.66852579e-03 2.02625487e-02 0.00000000e+00\n",
      " 2.84638256e-02 4.48879506e-03 7.51807764e-02 3.87712382e-02\n",
      " 8.02187901e-03 2.12568026e-02 1.92516134e-03 6.02758303e-03\n",
      " 1.88836932e-01 4.27832864e-02 7.39258379e-02 3.53661478e-02\n",
      " 5.09504639e-02 1.90072488e-02 1.03619089e-03 3.86505984e-02\n",
      " 2.54643019e-05 8.83288588e-03 8.55401997e-03 3.75585668e-02\n",
      " 7.41151571e-02 4.53547481e-03 1.39284670e-01 4.67967382e-03\n",
      " 5.48002534e-02 4.35841084e-03 6.84420159e-03 6.43799156e-02\n",
      " 1.14227235e-01 0.00000000e+00 1.98317185e-01 5.67916520e-02]\n",
      "---------------- CLASS -----------------------\n",
      "0\n",
      "---------------- PATCH INFORMATION -----------------------\n",
      "memorymaps/training/normal_006/mpp_3.89,4,299,3289,4485\n"
     ]
    }
   ],
   "source": [
    "print_data(9999, embeddings_simclr_aggressive_train, classes_simclr_aggressive_train, patch_information_simclr_aggressive_train)"
   ]
  },
  {
   "cell_type": "code",
   "execution_count": 7,
   "id": "4bc2704d-400c-4398-b105-81beede81b97",
   "metadata": {},
   "outputs": [
    {
     "name": "stdout",
     "output_type": "stream",
     "text": [
      "-----------NUM simclr_aggressive EMBEDDINGS TRAIN-------------\n",
      "1353990\n",
      "-----------NUM simclr_aggressive EMBEDDINGS TEST-------------\n",
      "701967\n",
      "------------------------\n"
     ]
    }
   ],
   "source": [
    "print(\"-----------NUM simclr_aggressive EMBEDDINGS TRAIN-------------\")\n",
    "print(len(embeddings_simclr_aggressive_train))\n",
    "print(\"-----------NUM simclr_aggressive EMBEDDINGS TEST-------------\")\n",
    "print(len(embeddings_simclr_aggressive_test))\n",
    "print(\"------------------------\")"
   ]
  },
  {
   "cell_type": "markdown",
   "id": "3d922a2e-5c32-4aa1-abad-4539ead1633a",
   "metadata": {},
   "source": [
    "## Gradient Boosting"
   ]
  },
  {
   "cell_type": "code",
   "execution_count": 9,
   "id": "c1776fe9-0df5-4b51-8ee0-21e6f7bf9061",
   "metadata": {},
   "outputs": [
    {
     "name": "stdout",
     "output_type": "stream",
     "text": [
      "---------------------------------------\n",
      "PERCENTAGE: 10.0% OF DATASET, NUMBER EMBEDDINGS: 135399\n",
      "HYPERPARAMETERS: learning_rate = 0.1, n_estimators = 100, max_depth = 3, min_samples_split = 2,  min_samples_leaf = 1, max_features = None\n",
      "RUNTIME IN SEC: 2427.2059757709503\n",
      "ACCURACY:\n",
      "0.9550890568929878\n",
      "AUC & ROC CURVE:\n"
     ]
    },
    {
     "data": {
      "image/png": "[encoded data removed]",
      "text/plain": [
       "<Figure size 432x288 with 1 Axes>"
      ]
     },
     "metadata": {
      "needs_background": "light"
     },
     "output_type": "display_data"
    },
    {
     "name": "stdout",
     "output_type": "stream",
     "text": [
      "PRECISION RECALL CURVE:\n"
     ]
    },
    {
     "data": {
      "image/png": "[encoded data removed]",
      "text/plain": [
       "<Figure size 432x288 with 1 Axes>"
      ]
     },
     "metadata": {
      "needs_background": "light"
     },
     "output_type": "display_data"
    },
    {
     "name": "stdout",
     "output_type": "stream",
     "text": [
      "CONFUSION MATRIX:\n"
     ]
    },
    {
     "data": {
      "image/png": "[encoded data removed]",
      "text/plain": [
       "<Figure size 432x288 with 2 Axes>"
      ]
     },
     "metadata": {
      "needs_background": "light"
     },
     "output_type": "display_data"
    },
    {
     "name": "stdout",
     "output_type": "stream",
     "text": [
      "---------------------------------------\n"
     ]
    }
   ],
   "source": [
    "runGBPercentage(embeddings_simclr_aggressive_train, classes_simclr_aggressive_train, embeddings_simclr_aggressive_test, classes_simclr_aggressive_test, [0.1])"
   ]
  }
 ],
 "metadata": {
  "kernelspec": {
   "display_name": "Python 3 (ipykernel)",
   "language": "python",
   "name": "python3"
  },
  "language_info": {
   "codemirror_mode": {
    "name": "ipython",
    "version": 3
   },
   "file_extension": ".py",
   "mimetype": "text/x-python",
   "name": "python",
   "nbconvert_exporter": "python",
   "pygments_lexer": "ipython3",
   "version": "3.10.4"
  }
 },
 "nbformat": 4,
 "nbformat_minor": 5
}
