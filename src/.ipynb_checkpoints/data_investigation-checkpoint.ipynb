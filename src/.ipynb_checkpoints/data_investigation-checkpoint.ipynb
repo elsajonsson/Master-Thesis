{
 "cells": [
  {
   "cell_type": "code",
   "execution_count": 1,
   "id": "d2eeb618-04da-46af-8dfd-38ed9b9a2267",
   "metadata": {
    "collapsed": true,
    "jupyter": {
     "outputs_hidden": true
    },
    "tags": []
   },
   "outputs": [
    {
     "name": "stdout",
     "output_type": "stream",
     "text": [
      "Defaulting to user installation because normal site-packages is not writeable\n",
      "Requirement already satisfied: scikit-image in /home/kzmq426/.local/lib/python3.9/site-packages (from -r requirements.txt (line 1)) (0.19.2)\n",
      "Requirement already satisfied: sklearn in /home/kzmq426/.local/lib/python3.9/site-packages (from -r requirements.txt (line 2)) (0.0)\n",
      "Requirement already satisfied: matplot in /home/kzmq426/.local/lib/python3.9/site-packages (from -r requirements.txt (line 3)) (0.1.9)\n",
      "Requirement already satisfied: numpy in /home/kzmq426/.local/lib/python3.9/site-packages (from -r requirements.txt (line 4)) (1.21.5)\n",
      "Requirement already satisfied: scipy in /home/kzmq426/.local/lib/python3.9/site-packages (from -r requirements.txt (line 5)) (1.8.0)\n",
      "Requirement already satisfied: pandas in /home/kzmq426/.local/lib/python3.9/site-packages (from -r requirements.txt (line 6)) (1.4.1)\n",
      "Requirement already satisfied: virtualenv in /opt/scp/software/Python/3.9.5-GCCcore-10.3.0/lib/python3.9/site-packages (from -r requirements.txt (line 7)) (20.4.6)\n",
      "Requirement already satisfied: seaborn in /home/kzmq426/.local/lib/python3.9/site-packages (from -r requirements.txt (line 8)) (0.11.2)\n",
      "Requirement already satisfied: umap-learn in /home/kzmq426/.local/lib/python3.9/site-packages (from -r requirements.txt (line 9)) (0.5.2)\n",
      "Requirement already satisfied: matplotlib in /home/kzmq426/.local/lib/python3.9/site-packages (from -r requirements.txt (line 10)) (3.5.1)\n",
      "Requirement already satisfied: mlxtend in /home/kzmq426/.local/lib/python3.9/site-packages (from -r requirements.txt (line 11)) (0.19.0)\n",
      "Requirement already satisfied: tifffile>=2019.7.26 in /home/kzmq426/.local/lib/python3.9/site-packages (from scikit-image->-r requirements.txt (line 1)) (2022.2.9)\n",
      "Requirement already satisfied: PyWavelets>=1.1.1 in /home/kzmq426/.local/lib/python3.9/site-packages (from scikit-image->-r requirements.txt (line 1)) (1.2.0)\n",
      "Requirement already satisfied: imageio>=2.4.1 in /home/kzmq426/.local/lib/python3.9/site-packages (from scikit-image->-r requirements.txt (line 1)) (2.16.1)\n",
      "Requirement already satisfied: networkx>=2.2 in /home/kzmq426/.local/lib/python3.9/site-packages (from scikit-image->-r requirements.txt (line 1)) (2.7)\n",
      "Requirement already satisfied: pillow!=7.1.0,!=7.1.1,!=8.3.0,>=6.1.0 in /home/kzmq426/.local/lib/python3.9/site-packages (from scikit-image->-r requirements.txt (line 1)) (9.0.1)\n",
      "Requirement already satisfied: packaging>=20.0 in /opt/scp/software/Python/3.9.5-GCCcore-10.3.0/lib/python3.9/site-packages (from scikit-image->-r requirements.txt (line 1)) (20.9)\n",
      "Requirement already satisfied: pyparsing>=2.0.2 in /opt/scp/software/Python/3.9.5-GCCcore-10.3.0/lib/python3.9/site-packages (from packaging>=20.0->scikit-image->-r requirements.txt (line 1)) (2.4.7)\n",
      "Requirement already satisfied: scikit-learn in /home/kzmq426/.local/lib/python3.9/site-packages (from sklearn->-r requirements.txt (line 2)) (1.0.2)\n",
      "Requirement already satisfied: pyloco>=0.0.134 in /home/kzmq426/.local/lib/python3.9/site-packages (from matplot->-r requirements.txt (line 3)) (0.0.139)\n",
      "Requirement already satisfied: cycler>=0.10 in /home/kzmq426/.local/lib/python3.9/site-packages (from matplotlib->-r requirements.txt (line 10)) (0.11.0)\n",
      "Requirement already satisfied: python-dateutil>=2.7 in /opt/scp/software/Python/3.9.5-GCCcore-10.3.0/lib/python3.9/site-packages (from matplotlib->-r requirements.txt (line 10)) (2.8.1)\n",
      "Requirement already satisfied: fonttools>=4.22.0 in /home/kzmq426/.local/lib/python3.9/site-packages (from matplotlib->-r requirements.txt (line 10)) (4.29.1)\n",
      "Requirement already satisfied: kiwisolver>=1.0.1 in /home/kzmq426/.local/lib/python3.9/site-packages (from matplotlib->-r requirements.txt (line 10)) (1.3.2)\n",
      "Requirement already satisfied: SimpleWebSocketServer in /home/kzmq426/.local/lib/python3.9/site-packages (from pyloco>=0.0.134->matplot->-r requirements.txt (line 3)) (0.1.1)\n",
      "Requirement already satisfied: twine in /home/kzmq426/.local/lib/python3.9/site-packages (from pyloco>=0.0.134->matplot->-r requirements.txt (line 3)) (3.8.0)\n",
      "Requirement already satisfied: ushlex in /home/kzmq426/.local/lib/python3.9/site-packages (from pyloco>=0.0.134->matplot->-r requirements.txt (line 3)) (0.99.1)\n",
      "Requirement already satisfied: typing in /home/kzmq426/.local/lib/python3.9/site-packages (from pyloco>=0.0.134->matplot->-r requirements.txt (line 3)) (3.7.4.3)\n",
      "Requirement already satisfied: websocket-client in /opt/scp/software/JupyterLab/3.1.0-GCCcore-10.3.0/lib/python3.9/site-packages (from pyloco>=0.0.134->matplot->-r requirements.txt (line 3)) (1.1.0)\n",
      "Requirement already satisfied: six>=1.5 in /opt/scp/software/Python/3.9.5-GCCcore-10.3.0/lib/python3.9/site-packages (from python-dateutil>=2.7->matplotlib->-r requirements.txt (line 10)) (1.16.0)\n",
      "Requirement already satisfied: pytz>=2020.1 in /opt/scp/software/Python/3.9.5-GCCcore-10.3.0/lib/python3.9/site-packages (from pandas->-r requirements.txt (line 6)) (2021.1)\n",
      "Requirement already satisfied: filelock<4,>=3.0.0 in /opt/scp/software/Python/3.9.5-GCCcore-10.3.0/lib/python3.9/site-packages (from virtualenv->-r requirements.txt (line 7)) (3.0.12)\n",
      "Requirement already satisfied: appdirs<2,>=1.4.3 in /opt/scp/software/Python/3.9.5-GCCcore-10.3.0/lib/python3.9/site-packages (from virtualenv->-r requirements.txt (line 7)) (1.4.4)\n",
      "Requirement already satisfied: distlib<1,>=0.3.1 in /opt/scp/software/Python/3.9.5-GCCcore-10.3.0/lib/python3.9/site-packages (from virtualenv->-r requirements.txt (line 7)) (0.3.1)\n",
      "Requirement already satisfied: tqdm in /home/kzmq426/.local/lib/python3.9/site-packages (from umap-learn->-r requirements.txt (line 9)) (4.63.0)\n",
      "Requirement already satisfied: numba>=0.49 in /home/kzmq426/.local/lib/python3.9/site-packages (from umap-learn->-r requirements.txt (line 9)) (0.55.1)\n",
      "Requirement already satisfied: pynndescent>=0.5 in /home/kzmq426/.local/lib/python3.9/site-packages (from umap-learn->-r requirements.txt (line 9)) (0.5.6)\n",
      "Requirement already satisfied: llvmlite<0.39,>=0.38.0rc1 in /home/kzmq426/.local/lib/python3.9/site-packages (from numba>=0.49->umap-learn->-r requirements.txt (line 9)) (0.38.0)\n",
      "Requirement already satisfied: setuptools in /opt/scp/software/Python/3.9.5-GCCcore-10.3.0/lib/python3.9/site-packages (from numba>=0.49->umap-learn->-r requirements.txt (line 9)) (56.2.0)\n",
      "Requirement already satisfied: joblib>=0.11 in /opt/scp/software/Python/3.9.5-GCCcore-10.3.0/lib/python3.9/site-packages (from pynndescent>=0.5->umap-learn->-r requirements.txt (line 9)) (1.0.1)\n",
      "Requirement already satisfied: threadpoolctl>=2.0.0 in /opt/scp/software/Python/3.9.5-GCCcore-10.3.0/lib/python3.9/site-packages (from scikit-learn->sklearn->-r requirements.txt (line 2)) (2.1.0)\n",
      "Requirement already satisfied: requests-toolbelt!=0.9.0,>=0.8.0 in /opt/scp/software/Python/3.9.5-GCCcore-10.3.0/lib/python3.9/site-packages (from twine->pyloco>=0.0.134->matplot->-r requirements.txt (line 3)) (0.9.1)\n",
      "Requirement already satisfied: keyring>=15.1 in /opt/scp/software/Python/3.9.5-GCCcore-10.3.0/lib/python3.9/site-packages (from twine->pyloco>=0.0.134->matplot->-r requirements.txt (line 3)) (21.8.0)\n",
      "Requirement already satisfied: readme-renderer>=21.0 in /home/kzmq426/.local/lib/python3.9/site-packages (from twine->pyloco>=0.0.134->matplot->-r requirements.txt (line 3)) (32.0)\n",
      "Requirement already satisfied: urllib3>=1.26.0 in /opt/scp/software/Python/3.9.5-GCCcore-10.3.0/lib/python3.9/site-packages (from twine->pyloco>=0.0.134->matplot->-r requirements.txt (line 3)) (1.26.4)\n",
      "Requirement already satisfied: rfc3986>=1.4.0 in /home/kzmq426/.local/lib/python3.9/site-packages (from twine->pyloco>=0.0.134->matplot->-r requirements.txt (line 3)) (2.0.0)\n",
      "Requirement already satisfied: importlib-metadata>=3.6 in /home/kzmq426/.local/lib/python3.9/site-packages (from twine->pyloco>=0.0.134->matplot->-r requirements.txt (line 3)) (4.11.3)\n",
      "Requirement already satisfied: requests>=2.20 in /opt/scp/software/Python/3.9.5-GCCcore-10.3.0/lib/python3.9/site-packages (from twine->pyloco>=0.0.134->matplot->-r requirements.txt (line 3)) (2.25.1)\n",
      "Requirement already satisfied: colorama>=0.4.3 in /opt/scp/software/Python/3.9.5-GCCcore-10.3.0/lib/python3.9/site-packages (from twine->pyloco>=0.0.134->matplot->-r requirements.txt (line 3)) (0.4.4)\n",
      "Requirement already satisfied: pkginfo>=1.8.1 in /home/kzmq426/.local/lib/python3.9/site-packages (from twine->pyloco>=0.0.134->matplot->-r requirements.txt (line 3)) (1.8.2)\n",
      "Requirement already satisfied: zipp>=0.5 in /opt/scp/software/Python/3.9.5-GCCcore-10.3.0/lib/python3.9/site-packages (from importlib-metadata>=3.6->twine->pyloco>=0.0.134->matplot->-r requirements.txt (line 3)) (3.4.1)\n",
      "Requirement already satisfied: SecretStorage>=3.2 in /opt/scp/software/Python/3.9.5-GCCcore-10.3.0/lib/python3.9/site-packages (from keyring>=15.1->twine->pyloco>=0.0.134->matplot->-r requirements.txt (line 3)) (3.3.1)\n",
      "Requirement already satisfied: jeepney>=0.4.2 in /opt/scp/software/Python/3.9.5-GCCcore-10.3.0/lib/python3.9/site-packages (from keyring>=15.1->twine->pyloco>=0.0.134->matplot->-r requirements.txt (line 3)) (0.6.0)\n",
      "Requirement already satisfied: Pygments>=2.5.1 in /opt/scp/software/Python/3.9.5-GCCcore-10.3.0/lib/python3.9/site-packages (from readme-renderer>=21.0->twine->pyloco>=0.0.134->matplot->-r requirements.txt (line 3)) (2.9.0)\n",
      "Requirement already satisfied: docutils>=0.13.1 in /opt/scp/software/Python/3.9.5-GCCcore-10.3.0/lib/python3.9/site-packages (from readme-renderer>=21.0->twine->pyloco>=0.0.134->matplot->-r requirements.txt (line 3)) (0.17.1)\n",
      "Requirement already satisfied: bleach>=2.1.0 in /opt/scp/software/IPython/7.25.0-GCCcore-10.3.0/lib/python3.9/site-packages (from readme-renderer>=21.0->twine->pyloco>=0.0.134->matplot->-r requirements.txt (line 3)) (3.3.0)\n",
      "Requirement already satisfied: webencodings in /opt/scp/software/Python/3.9.5-GCCcore-10.3.0/lib/python3.9/site-packages (from bleach>=2.1.0->readme-renderer>=21.0->twine->pyloco>=0.0.134->matplot->-r requirements.txt (line 3)) (0.5.1)\n",
      "Requirement already satisfied: chardet<5,>=3.0.2 in /opt/scp/software/Python/3.9.5-GCCcore-10.3.0/lib/python3.9/site-packages (from requests>=2.20->twine->pyloco>=0.0.134->matplot->-r requirements.txt (line 3)) (4.0.0)\n",
      "Requirement already satisfied: certifi>=2017.4.17 in /opt/scp/software/Python/3.9.5-GCCcore-10.3.0/lib/python3.9/site-packages (from requests>=2.20->twine->pyloco>=0.0.134->matplot->-r requirements.txt (line 3)) (2020.12.5)\n",
      "Requirement already satisfied: idna<3,>=2.5 in /opt/scp/software/Python/3.9.5-GCCcore-10.3.0/lib/python3.9/site-packages (from requests>=2.20->twine->pyloco>=0.0.134->matplot->-r requirements.txt (line 3)) (2.10)\n",
      "Requirement already satisfied: cryptography>=2.0 in /opt/scp/software/Python/3.9.5-GCCcore-10.3.0/lib/python3.9/site-packages (from SecretStorage>=3.2->keyring>=15.1->twine->pyloco>=0.0.134->matplot->-r requirements.txt (line 3)) (3.4.7)\n",
      "Requirement already satisfied: cffi>=1.12 in /opt/scp/software/Python/3.9.5-GCCcore-10.3.0/lib/python3.9/site-packages (from cryptography>=2.0->SecretStorage>=3.2->keyring>=15.1->twine->pyloco>=0.0.134->matplot->-r requirements.txt (line 3)) (1.14.5)\n",
      "Requirement already satisfied: pycparser in /opt/scp/software/Python/3.9.5-GCCcore-10.3.0/lib/python3.9/site-packages (from cffi>=1.12->cryptography>=2.0->SecretStorage>=3.2->keyring>=15.1->twine->pyloco>=0.0.134->matplot->-r requirements.txt (line 3)) (2.20)\n",
      "\u001b[33mWARNING: You are using pip version 21.1.1; however, version 22.0.4 is available.\n",
      "You should consider upgrading via the '/opt/scp/software/Python/3.9.5-GCCcore-10.3.0/bin/python3.9 -m pip install --upgrade pip' command.\u001b[0m\n"
     ]
    }
   ],
   "source": [
    "! pip install -r ../requirements.txt"
   ]
  },
  {
   "cell_type": "code",
   "execution_count": 2,
   "id": "dd567e0b-46b7-4d00-b7a3-379d60aa52a5",
   "metadata": {},
   "outputs": [],
   "source": [
    "from utils import *"
   ]
  },
  {
   "cell_type": "code",
   "execution_count": 3,
   "id": "6e479625-c63f-4d6d-8916-ca54506e7207",
   "metadata": {},
   "outputs": [],
   "source": [
    "# INPAINTING\n",
    "folder_inpainting_train = 'Camelyon16/inpainting/train_test/ShuffledTest00_50_ShuffledPartitions3_0/plots/epoch_-1_train_fullSize'\n",
    "folder_inpainting_test = 'Camelyon16/inpainting/test_tumor/ShuffledTest00_50_ShuffledPartitions3_0/plots/epoch_-1_train_fullSize'\n",
    "# SIMCLR aggressive \n",
    "folder_simclr_aggressive_train = 'Camelyon16/simclr/aggressive/no_cutout/train_test/ShuffledTest00_50_ShuffledPartitions3_0/plots/epoch_-1_train_fullSize'\n",
    "folder_simclr_aggressive_test = 'Camelyon16/simclr/aggressive/no_cutout/test_tumor/ShuffledTest00_50_ShuffledPartitions3_0/plots/epoch_-1_train_fullSize'\n",
    "# SIMCLR LIGHT \n",
    "folder_simclr_light_train = 'Camelyon16/simclr/light/no_cutout/train_test/ShuffledTest00_50_ShuffledPartitions3_0/plots/epoch_-1_train_fullSize'\n",
    "folder_simclr_light_test = 'Camelyon16/simclr/light/no_cutout/test_tumor/ShuffledTest00_50_ShuffledPartitions3_0/plots/epoch_-1_train_fullSize'\n"
   ]
  },
  {
   "cell_type": "code",
   "execution_count": 4,
   "id": "07f31b2e-cc21-47a8-b3cc-5720d2e44db6",
   "metadata": {},
   "outputs": [],
   "source": [
    "# INPAINTING\n",
    "embeddings_inpainting_train, classes_inpainting_train, patch_information_inpainting_train = load_data(folder_inpainting_train)\n",
    "embeddings_inpainting_train, embeddings_inpainting_test, classes_inpainting_train, classes_inpainting_test, patch_information_inpainting_train, patch_information_inpainting_test = sort_train_test(embeddings_inpainting_train, classes_inpainting_train, patch_information_inpainting_train)\n",
    "# SIMCLR LIGHT\n",
    "embeddings_simclr_light_train, classes_simclr_light_train, patch_information_simclr_light_train = load_data(folder_simclr_light_train)\n",
    "embeddings_simclr_light_train, embeddings_simclr_light_test, classes_simclr_light_train, classes_simclr_light_test, patch_information_simclr_light_train, patch_information_simclr_light_test = sort_train_test(embeddings_simclr_light_train, classes_simclr_light_train, patch_information_simclr_light_train)\n",
    "# SIMCLR AVGRESSIVE\n",
    "embeddings_simclr_aggressive_train, classes_simclr_aggressive_train, patch_information_simclr_aggressive_train = load_data(folder_simclr_aggressive_train)\n",
    "embeddings_simclr_aggressive_train, embeddings_simclr_aggressive_test, classes_simclr_aggressive_train, classes_simclr_aggressive_test, patch_information_simclr_aggressive_train, patch_information_simclr_aggressive_test = sort_train_test(embeddings_simclr_aggressive_train, classes_simclr_aggressive_train, patch_information_simclr_aggressive_train)"
   ]
  },
  {
   "cell_type": "code",
   "execution_count": 5,
   "id": "73862265-8835-4707-92e7-468e702225d4",
   "metadata": {},
   "outputs": [
    {
     "name": "stdout",
     "output_type": "stream",
     "text": [
      "-----------NUM inpainting EMBEDDINGS TRAIN-------------\n",
      "1353990\n",
      "-----------NUM inpainting EMBEDDINGS TEST-------------\n",
      "701967\n",
      "------------------------\n",
      "-----------NUM simclr_light EMBEDDINGS TRAIN-------------\n",
      "1353990\n",
      "-----------NUM simclr_light EMBEDDINGS TEST-------------\n",
      "701967\n",
      "------------------------\n",
      "-----------NUM simclr_aggressive EMBEDDINGS TRAIN-------------\n",
      "1353990\n",
      "-----------NUM simclr_aggressive EMBEDDINGS TEST-------------\n",
      "701967\n",
      "------------------------\n"
     ]
    }
   ],
   "source": [
    "print(\"-----------NUM inpainting EMBEDDINGS TRAIN-------------\")\n",
    "print(len(embeddings_inpainting_train))\n",
    "print(\"-----------NUM inpainting EMBEDDINGS TEST-------------\")\n",
    "print(len(embeddings_inpainting_test))\n",
    "print(\"------------------------\")\n",
    "print(\"-----------NUM simclr_light EMBEDDINGS TRAIN-------------\")\n",
    "print(len(embeddings_simclr_light_train))\n",
    "print(\"-----------NUM simclr_light EMBEDDINGS TEST-------------\")\n",
    "print(len(embeddings_simclr_light_test))\n",
    "print(\"------------------------\")\n",
    "print(\"-----------NUM simclr_aggressive EMBEDDINGS TRAIN-------------\")\n",
    "print(len(embeddings_simclr_aggressive_train))\n",
    "print(\"-----------NUM simclr_aggressive EMBEDDINGS TEST-------------\")\n",
    "print(len(embeddings_simclr_aggressive_test))\n",
    "print(\"------------------------\")"
   ]
  },
  {
   "cell_type": "code",
   "execution_count": 6,
   "id": "40c028fb-1b91-4828-84ca-9a2c60da70a9",
   "metadata": {},
   "outputs": [
    {
     "name": "stdout",
     "output_type": "stream",
     "text": [
      "['mpp_0.49', 'mpp_0.97', 'mpp_1.94', 'mpp_3.89', 'mpp_0.45', 'mpp_0.91', 'mpp_1.82', 'mpp_3.63', 'mpp_1.81', 'mpp_3.62']\n"
     ]
    }
   ],
   "source": [
    "print(number_zoom_levles(patch_information_inpainting_train))"
   ]
  },
  {
   "cell_type": "code",
   "execution_count": 7,
   "id": "2d1a920e-11d6-4ac8-91c1-a070682274d5",
   "metadata": {},
   "outputs": [
    {
     "name": "stdout",
     "output_type": "stream",
     "text": [
      "['mpp_0.49', 'mpp_0.97', 'mpp_1.94', 'mpp_3.89', 'mpp_0.45', 'mpp_0.91', 'mpp_1.82', 'mpp_3.63', 'mpp_1.81', 'mpp_3.62']\n"
     ]
    }
   ],
   "source": [
    "print(number_zoom_levles(patch_information_simclr_light_train))"
   ]
  },
  {
   "cell_type": "code",
   "execution_count": 8,
   "id": "9544ff87-c570-4feb-b6ee-b9ac89f79bce",
   "metadata": {},
   "outputs": [
    {
     "name": "stdout",
     "output_type": "stream",
     "text": [
      "['mpp_0.49', 'mpp_0.97', 'mpp_1.94', 'mpp_3.89', 'mpp_0.45', 'mpp_0.91', 'mpp_1.82', 'mpp_3.63', 'mpp_1.81', 'mpp_3.62']\n"
     ]
    }
   ],
   "source": [
    "print(number_zoom_levles(patch_information_simclr_aggressive_train))"
   ]
  },
  {
   "cell_type": "code",
   "execution_count": 9,
   "id": "2ce484fb-7d80-4398-81ba-6c46fcd21b3d",
   "metadata": {},
   "outputs": [
    {
     "name": "stdout",
     "output_type": "stream",
     "text": [
      "['mpp_0.91', 'mpp_1.81', 'mpp_3.62', 'mpp_0.45', 'mpp_0.97', 'mpp_1.94', 'mpp_3.89', 'mpp_0.49', 'mpp_1.82', 'mpp_3.63', 'mpp_3.64', 'mpp_0.46']\n"
     ]
    }
   ],
   "source": [
    "print(number_zoom_levles(patch_information_inpainting_test))"
   ]
  },
  {
   "cell_type": "code",
   "execution_count": 10,
   "id": "e086ab5b-5069-4c74-a14d-e01ddad18e55",
   "metadata": {},
   "outputs": [
    {
     "name": "stdout",
     "output_type": "stream",
     "text": [
      "['mpp_0.91', 'mpp_1.81', 'mpp_3.62', 'mpp_0.45', 'mpp_0.97', 'mpp_1.94', 'mpp_3.89', 'mpp_0.49', 'mpp_1.82', 'mpp_3.63', 'mpp_3.64', 'mpp_0.46']\n"
     ]
    }
   ],
   "source": [
    "print(number_zoom_levles(patch_information_simclr_light_test))"
   ]
  },
  {
   "cell_type": "code",
   "execution_count": 11,
   "id": "0ec1d814-cdad-43f7-8c5f-4711ec550040",
   "metadata": {},
   "outputs": [
    {
     "name": "stdout",
     "output_type": "stream",
     "text": [
      "['mpp_0.91', 'mpp_1.81', 'mpp_3.62', 'mpp_0.45', 'mpp_0.97', 'mpp_1.94', 'mpp_3.89', 'mpp_0.49', 'mpp_1.82', 'mpp_3.63', 'mpp_3.64', 'mpp_0.46']\n"
     ]
    }
   ],
   "source": [
    "print(number_zoom_levles(patch_information_simclr_light_test))"
   ]
  },
  {
   "cell_type": "code",
   "execution_count": 12,
   "id": "4df34158-1427-4c09-b14d-cb6fd858b29c",
   "metadata": {},
   "outputs": [
    {
     "name": "stdout",
     "output_type": "stream",
     "text": [
      "51551\n"
     ]
    }
   ],
   "source": [
    "print(number_tumour_embeddings(classes_inpainting_train))"
   ]
  },
  {
   "cell_type": "code",
   "execution_count": 13,
   "id": "dc5627b5-5369-4911-a47a-4c5f4cbfd127",
   "metadata": {},
   "outputs": [
    {
     "name": "stdout",
     "output_type": "stream",
     "text": [
      "60214\n"
     ]
    }
   ],
   "source": [
    "print(number_tumour_embeddings(classes_inpainting_test))"
   ]
  },
  {
   "cell_type": "code",
   "execution_count": 14,
   "id": "056b6b71-53fb-468f-8ae4-7aa30fa10235",
   "metadata": {},
   "outputs": [
    {
     "name": "stdout",
     "output_type": "stream",
     "text": [
      "51551\n"
     ]
    }
   ],
   "source": [
    "print(number_tumour_embeddings(classes_simclr_light_train))"
   ]
  }
 ],
 "metadata": {
  "kernelspec": {
   "display_name": "Python 3 (ipykernel)",
   "language": "python",
   "name": "python3"
  },
  "language_info": {
   "codemirror_mode": {
    "name": "ipython",
    "version": 3
   },
   "file_extension": ".py",
   "mimetype": "text/x-python",
   "name": "python",
   "nbconvert_exporter": "python",
   "pygments_lexer": "ipython3",
   "version": "3.10.4"
  }
 },
 "nbformat": 4,
 "nbformat_minor": 5
}
