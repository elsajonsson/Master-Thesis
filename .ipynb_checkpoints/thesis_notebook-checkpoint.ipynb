{
 "cells": [
  {
   "cell_type": "markdown",
   "id": "ae048a22-dcb2-4d09-acdf-ff6efc9d2398",
   "metadata": {},
   "source": [
    "# Classification of DIME embeddings of WSI patches"
   ]
  },
  {
   "cell_type": "markdown",
   "id": "ebdd7210-101e-44d7-b3bc-c977e03ba263",
   "metadata": {},
   "source": [
    "### By Elsa Jonsson, Embeddings provided by AstraZeneca\n",
    "\n",
    "In this notebook i will take DIME embeddings of tumour patches of the Camelyon16 dataset and see the patch level binary classification prediction of three different simple classifiers, SVM, LP and MLP. "
   ]
  },
  {
   "cell_type": "code",
   "execution_count": 1,
   "id": "ca334a2a-d92e-4276-8287-28d4959419ae",
   "metadata": {},
   "outputs": [],
   "source": [
    "import skimage, sklearn, matplot, numpy, scipy, pandas, virtualenv, pickle, os, glob\n",
    "\n",
    "import matplotlib.pyplot as plt\n",
    "import matplotlib.image as mpimg\n",
    "from sklearn.linear_model import LogisticRegression\n",
    "from sklearn.model_selection import train_test_split\n",
    "from sklearn import svm\n",
    "from sklearn.neural_network import MLPClassifier\n",
    "from sklearn.metrics import roc_curve, auc, average_precision_score\n",
    "from sklearn import metrics"
   ]
  },
  {
   "cell_type": "markdown",
   "id": "f10b7c7c-5f5f-49d6-9565-049240600435",
   "metadata": {},
   "source": [
    "## Load & inspect data"
   ]
  },
  {
   "cell_type": "code",
   "execution_count": 2,
   "id": "c5ca14b6-0fd6-41f0-819c-e37da6338180",
   "metadata": {},
   "outputs": [],
   "source": [
    "folder = 'diverse/simclr/light/no_cutout/train_test/ShuffledTest00_50_ShuffledPartitions3_0/plots/epoch_-1_train_fullSize/'"
   ]
  },
  {
   "cell_type": "code",
   "execution_count": 3,
   "id": "60070add-6c29-464c-9340-29163cb96e12",
   "metadata": {},
   "outputs": [],
   "source": [
    "def load_files(folder, wanted_content):\n",
    "    content = []\n",
    "    for root, dirs, files in os.walk(folder):\n",
    "        for name in files:\n",
    "            #classes\n",
    "            if name.endswith('.npy') and name == wanted_content and name != \"classes.npy\":\n",
    "                file = numpy.load(os.path.join(root, name))\n",
    "                for array in file:\n",
    "                    content.append(array)\n",
    "            #embeddings\n",
    "            elif name.endswith('.npy') and name == wanted_content:\n",
    "                file = numpy.load(os.path.join(root, name))\n",
    "                for array in file:\n",
    "                    for label in array:\n",
    "                        content.append(label)\n",
    "            #load information about patches\n",
    "            elif name.endswith('.pkl') and name == wanted_content:\n",
    "                with open(os.path.join(root, name), 'rb') as f:\n",
    "                    content = pickle.load(f)\n",
    "            elif name.endswith('.png') and name == wanted_content:\n",
    "                content = mpimg.imread(os.path.join(root, name))\n",
    "    return content\n",
    "\n",
    "def load_data(folder):\n",
    "    embeddings = load_files(folder, 'embeddings.npy')\n",
    "    classes = load_files(folder, 'classes.npy')\n",
    "    patch_information = load_files(folder, 'paths.pkl')\n",
    "    image = load_files(folder, 'umap.png')\n",
    "    return embeddings, classes, patch_information, image\n",
    "\n",
    "def print_data(i, embeddings, classes, patch_information):    \n",
    "    print('---------------- EMBEDDING -----------------------')\n",
    "    print(embeddings[i])\n",
    "    print('---------------- CLASS -----------------------')\n",
    "    print(classes[i])\n",
    "    print('---------------- PATCH INFORMATION -----------------------')\n",
    "    print(patch_information[i])\n",
    "\n",
    "def plot_image(img):\n",
    "    print('---------------- PLOT -----------------------')\n",
    "    imgplot = plt.imshow(img)\n",
    "    plt.show()\n",
    "\n",
    "def show_all(index, embeddings, classes, patch_information, img):\n",
    "    print_data(index, embeddings, classes, patch_information)\n",
    "    if img != []:\n",
    "        plot_image(img)\n",
    "    print('---------------------------------------')"
   ]
  },
  {
   "cell_type": "code",
   "execution_count": 4,
   "id": "8b1dd0f4-d36a-48c7-b5fc-ed7dfea6f0b3",
   "metadata": {},
   "outputs": [],
   "source": [
    "embeddings, classes, patch_information, image = load_data(folder)"
   ]
  },
  {
   "cell_type": "code",
   "execution_count": 5,
   "id": "c0d2cb7d-c2e5-42cb-b2a3-a46802727bd4",
   "metadata": {
    "collapsed": true,
    "jupyter": {
     "outputs_hidden": true
    },
    "tags": []
   },
   "outputs": [
    {
     "name": "stdout",
     "output_type": "stream",
     "text": [
      "---------------- EMBEDDING -----------------------\n",
      "[2.40123253e-02 1.81285143e-02 0.00000000e+00 2.01333649e-02\n",
      " 2.39383560e-02 1.28672054e-05 1.99968331e-02 1.04077440e-02\n",
      " 4.84503992e-03 4.16006288e-03 6.03996329e-02 7.30418507e-03\n",
      " 2.57804971e-02 5.45886569e-02 1.53530845e-02 0.00000000e+00\n",
      " 6.70516212e-03 2.38452965e-04 6.85714127e-04 4.15593293e-03\n",
      " 1.68144312e-02 4.11561877e-02 1.99108776e-02 0.00000000e+00\n",
      " 2.97926106e-02 7.72094866e-03 1.79327410e-02 2.15732604e-02\n",
      " 1.34194776e-01 6.61028875e-03 3.49758076e-03 2.86811520e-03\n",
      " 3.84719633e-02 1.52824568e-02 3.89033630e-02 3.15891136e-03\n",
      " 7.18441280e-03 0.00000000e+00 6.79672584e-02 1.16183339e-02\n",
      " 3.57914064e-03 5.30151231e-03 7.16186245e-04 0.00000000e+00\n",
      " 1.04057882e-02 6.71041235e-02 5.93841635e-03 2.18805969e-02\n",
      " 4.62530268e-04 1.01085067e-01 1.20778463e-03 1.07038552e-02\n",
      " 7.07511278e-03 7.21452234e-04 2.36038677e-03 2.75023817e-03\n",
      " 4.76739975e-03 5.98033406e-02 1.50098968e-02 6.81865728e-03\n",
      " 9.49235074e-03 3.19438204e-02 3.37176621e-02 9.32900682e-02\n",
      " 7.44327828e-02 4.11090963e-02 0.00000000e+00 1.09754615e-02\n",
      " 7.36024504e-07 6.69972450e-02 6.90548308e-03 6.00250810e-02\n",
      " 1.34746522e-01 0.00000000e+00 3.58139677e-03 1.85372066e-02\n",
      " 6.56687946e-04 2.32775100e-02 1.92168519e-01 3.61067243e-03\n",
      " 4.50530089e-03 4.18099429e-04 6.92080930e-02 2.06598639e-02\n",
      " 1.29365467e-03 4.57803868e-02 6.82108104e-03 7.65993376e-04\n",
      " 2.85910312e-02 4.93446849e-02 1.76978186e-02 5.72375953e-03\n",
      " 1.68900937e-02 6.85867202e-03 5.63397259e-03 1.81344803e-02\n",
      " 2.52223462e-02 3.38667445e-02 5.60266851e-03 1.64631084e-02\n",
      " 0.00000000e+00 5.49084871e-05 0.00000000e+00 1.07823449e-04\n",
      " 1.47273233e-02 5.67838470e-05 0.00000000e+00 9.71676223e-03\n",
      " 1.45405903e-01 7.04125911e-02 1.25850714e-03 1.16322227e-02\n",
      " 4.54630628e-02 0.00000000e+00 1.06224697e-03 5.58696277e-02\n",
      " 3.19803432e-02 2.24107616e-02 5.03190700e-03 7.30246231e-02\n",
      " 2.08288338e-02 3.99861522e-02 2.44771503e-02 1.70647842e-03\n",
      " 0.00000000e+00 1.69364382e-02 1.74062025e-05 3.64972427e-02\n",
      " 0.00000000e+00 2.36021285e-03 2.13613529e-02 2.76782513e-02\n",
      " 9.33014788e-03 1.64606608e-02 4.85015810e-02 1.88101156e-04\n",
      " 1.90963456e-03 1.66948922e-02 1.47225440e-03 1.85552184e-02\n",
      " 1.32030016e-03 1.39638782e-04 1.30233087e-03 1.94394812e-02\n",
      " 3.05968206e-02 1.85088906e-03 1.05676204e-02 1.45286664e-01\n",
      " 1.16181355e-02 0.00000000e+00 3.82173737e-03 1.29909161e-02\n",
      " 3.84042300e-02 1.35496166e-02 1.22315753e-02 4.33389144e-03\n",
      " 4.04805783e-03 7.88494647e-02 1.67400882e-01 1.16679985e-02\n",
      " 6.33576419e-03 1.95080822e-03 1.52413355e-04 4.04960252e-02\n",
      " 1.66186765e-02 1.96568128e-02 9.35521070e-03 3.43009830e-03\n",
      " 9.92043409e-04 3.91509719e-02 2.82560140e-02 1.66323953e-04\n",
      " 2.49529686e-02 9.16331599e-04 4.94811945e-02 1.22742141e-02\n",
      " 2.56390460e-02 2.84549640e-03 0.00000000e+00 2.15736870e-02\n",
      " 3.84800509e-02 2.30952650e-02 1.82597281e-03 2.79023452e-03\n",
      " 3.86199094e-02 4.99862470e-02 9.09622833e-02 9.37753767e-02\n",
      " 4.90769036e-02 7.56513178e-02 1.32135656e-02 6.93008155e-02\n",
      " 1.32732198e-01 4.18464392e-02 1.10450894e-01 1.15317971e-01\n",
      " 2.94576474e-02 1.14945844e-01 5.87024879e-05 2.78402790e-02\n",
      " 3.41546419e-03 1.11974438e-03 0.00000000e+00 1.81613654e-01\n",
      " 4.59702015e-02 7.75062069e-02 5.18060252e-02 3.05261672e-03\n",
      " 2.36499612e-03 2.88742911e-02 1.87743939e-02 9.91008990e-03\n",
      " 4.20474634e-03 4.47912812e-02 0.00000000e+00 4.33531851e-02\n",
      " 7.50271138e-04 7.70240696e-03 1.43270232e-02 3.72297913e-02\n",
      " 8.35341141e-02 3.60995084e-02 2.99434131e-03 5.96916629e-03\n",
      " 7.02030316e-04 2.77403742e-02 0.00000000e+00 9.47073661e-03\n",
      " 7.50771025e-03 1.09789670e-02 5.35582229e-02 1.82684322e-04\n",
      " 7.06853159e-03 0.00000000e+00 3.42969522e-02 5.99602051e-02\n",
      " 1.04827499e-02 0.00000000e+00 1.34474486e-02 1.37348063e-02\n",
      " 9.79301520e-03 1.04776500e-02 1.21108532e-01 2.81101670e-02\n",
      " 1.70508400e-02 9.25577339e-03 2.12218594e-02 8.93489737e-03\n",
      " 1.06161639e-01 3.86549300e-03 4.01431136e-03 0.00000000e+00\n",
      " 3.49432376e-04 1.83903128e-02 1.99479852e-02 3.60410474e-02\n",
      " 4.72557545e-03 2.28727702e-02 7.84207694e-03 4.46866127e-03\n",
      " 3.45729350e-04 1.50198862e-02 1.29211381e-01 2.80197170e-02\n",
      " 7.47540966e-03 1.20333768e-02 1.19184740e-02 3.97591591e-02\n",
      " 1.26179669e-03 2.87916046e-02 3.93851884e-02 7.10722730e-02\n",
      " 1.28435949e-02 1.25046492e-01 4.25912216e-02 4.30824608e-03\n",
      " 8.68526474e-02 1.78638268e-02 1.37807325e-01 4.96799406e-03\n",
      " 4.02634740e-02 1.34093622e-02 1.76210012e-02 2.62155477e-03\n",
      " 1.04195296e-05 1.65098626e-02 4.00052033e-02 5.09759635e-02\n",
      " 6.46905228e-02 1.54796726e-05 0.00000000e+00 4.90233265e-02\n",
      " 9.05954465e-02 9.13251657e-03 2.21156776e-02 4.67405356e-02\n",
      " 2.22274539e-04 6.87852874e-02 5.33612221e-02 2.34401245e-02\n",
      " 2.82458793e-02 3.96564528e-02 1.01359822e-01 7.11008608e-02\n",
      " 1.14706799e-03 9.29364935e-03 2.40904599e-01 1.97942904e-03\n",
      " 9.12651978e-03 2.79224552e-02 1.40178250e-03 1.05389714e-01\n",
      " 1.09700777e-03 1.98476319e-03 1.25151349e-03 7.74470121e-02\n",
      " 1.70683209e-03 2.18270402e-02 4.64042537e-02 5.37868626e-02\n",
      " 4.55510356e-02 2.28700088e-03 1.50157167e-02 1.82771832e-02\n",
      " 1.49644958e-02 6.68416098e-02 3.64809111e-02 1.11899674e-02\n",
      " 2.49281228e-02 1.64615305e-03 5.86767681e-02 6.43028915e-02\n",
      " 7.59773282e-03 0.00000000e+00 3.58730205e-04 2.58915965e-03\n",
      " 5.51080506e-04 6.11869618e-04 4.65643220e-03 4.99665290e-02\n",
      " 1.64398644e-02 0.00000000e+00 4.13481938e-03 7.45552243e-05\n",
      " 2.53497111e-03 2.69526597e-02 2.86603514e-02 6.05689548e-03\n",
      " 3.90601642e-02 2.29041744e-02 1.28120566e-02 5.94937615e-02\n",
      " 3.78930755e-02 2.69742776e-03 1.13715880e-01 2.28430778e-02\n",
      " 2.70728189e-02 1.55499714e-04 2.78285152e-04 1.07821494e-01\n",
      " 1.90304834e-02 5.34574203e-02 1.34346401e-02 4.23488580e-02\n",
      " 6.24146452e-03 9.37695336e-03 5.59358683e-04 8.66487250e-02\n",
      " 0.00000000e+00 4.29871306e-02 1.28623843e-03 1.86150102e-03\n",
      " 3.41286473e-02 1.43698836e-02 1.69752613e-02 1.37970864e-03\n",
      " 4.38573398e-02 1.32213654e-02 4.34506265e-03 5.23526147e-02\n",
      " 1.03739491e-02 2.07292367e-04 2.99448296e-02 0.00000000e+00\n",
      " 1.34053975e-01 1.20905943e-01 2.15614904e-02 2.68776380e-02\n",
      " 0.00000000e+00 0.00000000e+00 4.32920568e-02 2.47986540e-02\n",
      " 1.18394932e-02 1.32518830e-02 5.24277613e-02 4.01463965e-03\n",
      " 2.67105810e-02 0.00000000e+00 6.33630529e-02 1.18663665e-02\n",
      " 4.81035234e-03 1.83811499e-04 8.97979364e-03 1.83035191e-02\n",
      " 5.97891118e-03 1.92791037e-03 7.97036197e-03 4.16888036e-02\n",
      " 6.25725323e-03 2.45748688e-05 6.05884008e-04 6.69389917e-03\n",
      " 6.97939540e-04 8.43134522e-03 9.37786605e-03 7.10069295e-03\n",
      " 2.37460118e-02 2.57316906e-08 0.00000000e+00 0.00000000e+00\n",
      " 1.56125508e-03 8.65417048e-02 1.07887648e-02 4.60438430e-03\n",
      " 2.32430850e-03 1.04769483e-01 4.19770740e-02 2.85195429e-02\n",
      " 1.84465498e-02 1.56480502e-02 1.33053530e-02 5.53709746e-04\n",
      " 8.41982849e-03 3.86760049e-02 2.07067709e-02 8.17296561e-03\n",
      " 6.29995093e-02 6.65246695e-02 3.47103411e-03 6.17029667e-02\n",
      " 6.27246127e-02 3.74407321e-02 5.74540854e-06 3.50767225e-02\n",
      " 8.99421796e-02 7.64299941e-04 3.52221867e-03 1.50938230e-02\n",
      " 3.54731008e-02 3.31338346e-02 2.52222084e-02 1.98015315e-03\n",
      " 1.95259117e-02 2.14772262e-02 1.91727430e-02 3.82403880e-02\n",
      " 3.75823758e-04 4.07476686e-02 6.16443567e-02 4.53170948e-02\n",
      " 3.49927209e-02 7.25196600e-02 4.88001760e-03 2.08342783e-02\n",
      " 2.44967770e-02 8.23835668e-04 2.00321395e-02 3.02139414e-03\n",
      " 4.44418676e-02 2.70568691e-02 0.00000000e+00 4.79059629e-02\n",
      " 4.73636016e-02 2.68071628e-04 4.17293049e-02 1.03602197e-03\n",
      " 2.70203687e-04 4.14630584e-02 9.39923484e-06 6.04783855e-02\n",
      " 1.53067246e-01 7.86697678e-03 4.95196646e-03 5.00873141e-02\n",
      " 1.63302955e-03 3.41008715e-02 1.35747064e-02 2.35684332e-03\n",
      " 1.52223289e-01 9.92847979e-02 1.11671817e-02 5.50601073e-02\n",
      " 1.57019042e-03 1.38664655e-02 3.33512351e-02 1.47082144e-02\n",
      " 1.09643594e-03 8.50669295e-02 1.31281428e-02 1.56631678e-01\n",
      " 0.00000000e+00 6.26363652e-03 1.04281060e-01 6.47606999e-02\n",
      " 2.02328642e-03 0.00000000e+00 6.76498562e-03 3.52238603e-02\n",
      " 4.83469777e-02 0.00000000e+00 7.04267004e-04 6.47824779e-02]\n",
      "---------------- CLASS -----------------------\n",
      "0\n",
      "---------------- PATCH INFORMATION -----------------------\n",
      "memorymaps/testing/test_001/mpp_0.91,2,299,19734,13754\n",
      "---------------------------------------\n"
     ]
    }
   ],
   "source": [
    "show_all(554, embeddings, classes, patch_information, image)"
   ]
  },
  {
   "cell_type": "markdown",
   "id": "accc945b-5c05-479c-af4e-8464631e5656",
   "metadata": {},
   "source": [
    "## Splitting dataset into training & test set"
   ]
  },
  {
   "cell_type": "code",
   "execution_count": 6,
   "id": "25e57808-8e2e-4a08-a7f4-3762c58a1e24",
   "metadata": {},
   "outputs": [],
   "source": [
    "X_train, X_test, y_train, y_test = train_test_split(embeddings, classes, test_size=0.10, random_state=42)"
   ]
  },
  {
   "cell_type": "code",
   "execution_count": 7,
   "id": "c62acab2-75c0-49e9-a06d-a7c19fcd85a0",
   "metadata": {},
   "outputs": [],
   "source": [
    "X, X_t, y, y_t = train_test_split(X_test, y_test, test_size=0.33, random_state=42)"
   ]
  },
  {
   "cell_type": "code",
   "execution_count": 8,
   "id": "8e870aec-29bf-4eee-a5a7-6034049df2ab",
   "metadata": {},
   "outputs": [
    {
     "name": "stdout",
     "output_type": "stream",
     "text": [
      "1850361\n",
      "1850361\n",
      "------------------------\n",
      "205596\n",
      "205596\n",
      "------------------------ test \n",
      "137749\n",
      "137749\n",
      "------------------------\n",
      "67847\n",
      "67847\n"
     ]
    }
   ],
   "source": [
    "print(len(y_train))\n",
    "print(len(X_train))\n",
    "print(\"------------------------\")\n",
    "print(len(y_test))\n",
    "print(len(X_test))\n",
    "\n",
    "print(\"------------------------ test \")\n",
    "\n",
    "print(len(y))\n",
    "print(len(X))\n",
    "print(\"------------------------\")\n",
    "print(len(y_t))\n",
    "print(len(X_t))"
   ]
  },
  {
   "cell_type": "markdown",
   "id": "ed44abf0-a2db-4533-9591-10394eb0ef3a",
   "metadata": {},
   "source": [
    "## Evaluation definition"
   ]
  },
  {
   "cell_type": "code",
   "execution_count": 9,
   "id": "c00df060-3266-4b13-97ee-e3ca754e0206",
   "metadata": {},
   "outputs": [],
   "source": [
    "def evaluate_network(network):\n",
    "    print('---------------- ACCURACY -----------------------')\n",
    "    print(network.score(X_t, y_t))\n",
    "    print('---------------- AVERAGE PRECISION SCORE -----------------------')\n",
    "    print(average_precision_score(y_t, network.predict_proba(X_t)[:,1]))\n",
    "    print('---------------- AUC -----------------------')\n",
    "    fpr, tpr, thresholds = metrics.roc_curve(y_t, network.predict_proba(X_t)[:,1]))\n",
    "    print(metrics.auc(fpr, tpr))\n",
    "    print('---------------------------------------')"
   ]
  },
  {
   "cell_type": "markdown",
   "id": "370ee36a-3646-4ea8-95a8-b192049356c7",
   "metadata": {},
   "source": [
    "## SVM - Support Vector Machines"
   ]
  },
  {
   "cell_type": "code",
   "execution_count": 10,
   "id": "01ad4ae7-33d8-433d-9815-9c8b8a428b69",
   "metadata": {},
   "outputs": [
    {
     "name": "stderr",
     "output_type": "stream",
     "text": [
      "/opt/conda/lib/python3.9/site-packages/sklearn/svm/_base.py:284: ConvergenceWarning: Solver terminated early (max_iter=100).  Consider pre-processing your data with StandardScaler or MinMaxScaler.\n",
      "  warnings.warn(\n"
     ]
    },
    {
     "name": "stdout",
     "output_type": "stream",
     "text": [
      "---------------- ACCURACY -----------------------\n",
      "0.873789555912568\n",
      "---------------- AVERAGE PRECISION SCORE -----------------------\n",
      "0.30103274190197893\n",
      "---------------- ROC -----------------------\n"
     ]
    },
    {
     "ename": "NameError",
     "evalue": "name 'fpr' is not defined",
     "output_type": "error",
     "traceback": [
      "\u001b[0;31m---------------------------------------------------------------------------\u001b[0m",
      "\u001b[0;31mNameError\u001b[0m                                 Traceback (most recent call last)",
      "Input \u001b[0;32mIn [10]\u001b[0m, in \u001b[0;36m<cell line: 3>\u001b[0;34m()\u001b[0m\n\u001b[1;32m      1\u001b[0m svm \u001b[38;5;241m=\u001b[39m svm\u001b[38;5;241m.\u001b[39mSVC(max_iter\u001b[38;5;241m=\u001b[39m\u001b[38;5;241m100\u001b[39m, probability\u001b[38;5;241m=\u001b[39m\u001b[38;5;28;01mTrue\u001b[39;00m)\n\u001b[1;32m      2\u001b[0m svm\u001b[38;5;241m.\u001b[39mfit(X, y)\n\u001b[0;32m----> 3\u001b[0m \u001b[43mevaluate_network\u001b[49m\u001b[43m(\u001b[49m\u001b[43msvm\u001b[49m\u001b[43m)\u001b[49m\n",
      "Input \u001b[0;32mIn [9]\u001b[0m, in \u001b[0;36mevaluate_network\u001b[0;34m(network)\u001b[0m\n\u001b[1;32m      5\u001b[0m \u001b[38;5;28mprint\u001b[39m(average_precision_score(y_t, network\u001b[38;5;241m.\u001b[39mpredict_proba(X_t)[:,\u001b[38;5;241m1\u001b[39m]))\n\u001b[1;32m      6\u001b[0m \u001b[38;5;28mprint\u001b[39m(\u001b[38;5;124m'\u001b[39m\u001b[38;5;124m---------------- ROC -----------------------\u001b[39m\u001b[38;5;124m'\u001b[39m)\n\u001b[0;32m----> 7\u001b[0m \u001b[38;5;28mprint\u001b[39m(\u001b[43mfpr\u001b[49m, tpr, thresholds \u001b[38;5;241m=\u001b[39m metrics\u001b[38;5;241m.\u001b[39mroc_curve(y_t, network\u001b[38;5;241m.\u001b[39mpredict_proba(X_t)[:,\u001b[38;5;241m1\u001b[39m]))\n\u001b[1;32m      8\u001b[0m \u001b[38;5;28mprint\u001b[39m(\u001b[38;5;124m'\u001b[39m\u001b[38;5;124m---------------- AUC -----------------------\u001b[39m\u001b[38;5;124m'\u001b[39m)\n\u001b[1;32m      9\u001b[0m \u001b[38;5;28mprint\u001b[39m(metrics\u001b[38;5;241m.\u001b[39mauc(fpr, tpr))\n",
      "\u001b[0;31mNameError\u001b[0m: name 'fpr' is not defined"
     ]
    }
   ],
   "source": [
    "svm = svm.SVC(max_iter=100, probability=True)\n",
    "svm.fit(X, y)\n",
    "evaluate_network(svm)"
   ]
  },
  {
   "cell_type": "markdown",
   "id": "a6d890b8-3387-468b-8780-36cdaa28e59d",
   "metadata": {},
   "source": [
    "## LR - Logistic Regression"
   ]
  },
  {
   "cell_type": "code",
   "execution_count": null,
   "id": "e30740e6-6176-429e-9786-6285882720eb",
   "metadata": {},
   "outputs": [],
   "source": [
    "lr = LogisticRegression(max_iter=100)\n",
    "lr.fit(X, y)\n",
    "evaluate_network(lr)"
   ]
  },
  {
   "cell_type": "markdown",
   "id": "a8d26e33-dffd-4590-8108-101dbaaeddc5",
   "metadata": {},
   "source": [
    "## MLP - Multi-Layer Perceptron"
   ]
  },
  {
   "cell_type": "code",
   "execution_count": null,
   "id": "4d80cd94-1201-464c-8296-3f9148b55732",
   "metadata": {},
   "outputs": [],
   "source": [
    "mlp = MLPClassifier(max_iter=10)\n",
    "mlp.fit(X,y)\n",
    "evaluate_network(mlp)"
   ]
  }
 ],
 "metadata": {
  "kernelspec": {
   "display_name": "Python 3 (ipykernel)",
   "language": "python",
   "name": "python3"
  },
  "language_info": {
   "codemirror_mode": {
    "name": "ipython",
    "version": 3
   },
   "file_extension": ".py",
   "mimetype": "text/x-python",
   "name": "python",
   "nbconvert_exporter": "python",
   "pygments_lexer": "ipython3",
   "version": "3.9.10"
  }
 },
 "nbformat": 4,
 "nbformat_minor": 5
}
