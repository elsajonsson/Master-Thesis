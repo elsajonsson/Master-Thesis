{
 "cells": [
  {
   "cell_type": "markdown",
   "id": "ae048a22-dcb2-4d09-acdf-ff6efc9d2398",
   "metadata": {},
   "source": [
    "# Clustering of DIME embeddings of WSI patches"
   ]
  },
  {
   "cell_type": "markdown",
   "id": "ebdd7210-101e-44d7-b3bc-c977e03ba263",
   "metadata": {},
   "source": [
    "### By Elsa Jonsson, Embeddings provided by AstraZeneca\n",
    "\n",
    "In this notebook i will take DIME embeddings of tumour patches of the Camelyon16 dataset and create a binary classifier using a Multilayer Perceptron network"
   ]
  },
  {
   "cell_type": "markdown",
   "id": "f04038ef-2ce4-434a-9423-b6d7ffdd0734",
   "metadata": {},
   "source": [
    "### If not working in my docker container, run this line first:"
   ]
  },
  {
   "cell_type": "code",
   "execution_count": 1,
   "id": "9ecb1601-552f-4703-89ee-e5ebdf92cfb0",
   "metadata": {
    "collapsed": true,
    "jupyter": {
     "outputs_hidden": true
    },
    "tags": []
   },
   "outputs": [
    {
     "name": "stdout",
     "output_type": "stream",
     "text": [
      "Defaulting to user installation because normal site-packages is not writeable\n",
      "Requirement already satisfied: scikit-image in /home/kzmq426/.local/lib/python3.9/site-packages (from -r requirements.txt (line 1)) (0.19.2)\n",
      "Requirement already satisfied: sklearn in /home/kzmq426/.local/lib/python3.9/site-packages (from -r requirements.txt (line 2)) (0.0)\n",
      "Requirement already satisfied: matplot in /home/kzmq426/.local/lib/python3.9/site-packages (from -r requirements.txt (line 3)) (0.1.9)\n",
      "Requirement already satisfied: numpy in /home/kzmq426/.local/lib/python3.9/site-packages (from -r requirements.txt (line 4)) (1.21.5)\n",
      "Requirement already satisfied: scipy in /home/kzmq426/.local/lib/python3.9/site-packages (from -r requirements.txt (line 5)) (1.8.0)\n",
      "Requirement already satisfied: pandas in /home/kzmq426/.local/lib/python3.9/site-packages (from -r requirements.txt (line 6)) (1.4.1)\n",
      "Requirement already satisfied: virtualenv in /opt/scp/software/Python/3.9.5-GCCcore-10.3.0/lib/python3.9/site-packages (from -r requirements.txt (line 7)) (20.4.6)\n",
      "Requirement already satisfied: seaborn in /home/kzmq426/.local/lib/python3.9/site-packages (from -r requirements.txt (line 8)) (0.11.2)\n",
      "Requirement already satisfied: umap-learn in /home/kzmq426/.local/lib/python3.9/site-packages (from -r requirements.txt (line 9)) (0.5.2)\n",
      "Requirement already satisfied: matplotlib in /home/kzmq426/.local/lib/python3.9/site-packages (from -r requirements.txt (line 10)) (3.5.1)\n",
      "Requirement already satisfied: PyWavelets>=1.1.1 in /home/kzmq426/.local/lib/python3.9/site-packages (from scikit-image->-r requirements.txt (line 1)) (1.2.0)\n",
      "Requirement already satisfied: networkx>=2.2 in /home/kzmq426/.local/lib/python3.9/site-packages (from scikit-image->-r requirements.txt (line 1)) (2.7)\n",
      "Requirement already satisfied: imageio>=2.4.1 in /home/kzmq426/.local/lib/python3.9/site-packages (from scikit-image->-r requirements.txt (line 1)) (2.16.1)\n",
      "Requirement already satisfied: packaging>=20.0 in /opt/scp/software/Python/3.9.5-GCCcore-10.3.0/lib/python3.9/site-packages (from scikit-image->-r requirements.txt (line 1)) (20.9)\n",
      "Requirement already satisfied: tifffile>=2019.7.26 in /home/kzmq426/.local/lib/python3.9/site-packages (from scikit-image->-r requirements.txt (line 1)) (2022.2.9)\n",
      "Requirement already satisfied: pillow!=7.1.0,!=7.1.1,!=8.3.0,>=6.1.0 in /home/kzmq426/.local/lib/python3.9/site-packages (from scikit-image->-r requirements.txt (line 1)) (9.0.1)\n",
      "Requirement already satisfied: pyparsing>=2.0.2 in /opt/scp/software/Python/3.9.5-GCCcore-10.3.0/lib/python3.9/site-packages (from packaging>=20.0->scikit-image->-r requirements.txt (line 1)) (2.4.7)\n",
      "Requirement already satisfied: scikit-learn in /home/kzmq426/.local/lib/python3.9/site-packages (from sklearn->-r requirements.txt (line 2)) (1.0.2)\n",
      "Requirement already satisfied: pyloco>=0.0.134 in /home/kzmq426/.local/lib/python3.9/site-packages (from matplot->-r requirements.txt (line 3)) (0.0.139)\n",
      "Requirement already satisfied: fonttools>=4.22.0 in /home/kzmq426/.local/lib/python3.9/site-packages (from matplotlib->-r requirements.txt (line 10)) (4.29.1)\n",
      "Requirement already satisfied: cycler>=0.10 in /home/kzmq426/.local/lib/python3.9/site-packages (from matplotlib->-r requirements.txt (line 10)) (0.11.0)\n",
      "Requirement already satisfied: python-dateutil>=2.7 in /opt/scp/software/Python/3.9.5-GCCcore-10.3.0/lib/python3.9/site-packages (from matplotlib->-r requirements.txt (line 10)) (2.8.1)\n",
      "Requirement already satisfied: kiwisolver>=1.0.1 in /home/kzmq426/.local/lib/python3.9/site-packages (from matplotlib->-r requirements.txt (line 10)) (1.3.2)\n",
      "Requirement already satisfied: twine in /home/kzmq426/.local/lib/python3.9/site-packages (from pyloco>=0.0.134->matplot->-r requirements.txt (line 3)) (3.8.0)\n",
      "Requirement already satisfied: ushlex in /home/kzmq426/.local/lib/python3.9/site-packages (from pyloco>=0.0.134->matplot->-r requirements.txt (line 3)) (0.99.1)\n",
      "Requirement already satisfied: typing in /home/kzmq426/.local/lib/python3.9/site-packages (from pyloco>=0.0.134->matplot->-r requirements.txt (line 3)) (3.7.4.3)\n",
      "Requirement already satisfied: websocket-client in /opt/scp/software/JupyterLab/3.1.0-GCCcore-10.3.0/lib/python3.9/site-packages (from pyloco>=0.0.134->matplot->-r requirements.txt (line 3)) (1.1.0)\n",
      "Requirement already satisfied: SimpleWebSocketServer in /home/kzmq426/.local/lib/python3.9/site-packages (from pyloco>=0.0.134->matplot->-r requirements.txt (line 3)) (0.1.1)\n",
      "Requirement already satisfied: six>=1.5 in /opt/scp/software/Python/3.9.5-GCCcore-10.3.0/lib/python3.9/site-packages (from python-dateutil>=2.7->matplotlib->-r requirements.txt (line 10)) (1.16.0)\n",
      "Requirement already satisfied: pytz>=2020.1 in /opt/scp/software/Python/3.9.5-GCCcore-10.3.0/lib/python3.9/site-packages (from pandas->-r requirements.txt (line 6)) (2021.1)\n",
      "Requirement already satisfied: filelock<4,>=3.0.0 in /opt/scp/software/Python/3.9.5-GCCcore-10.3.0/lib/python3.9/site-packages (from virtualenv->-r requirements.txt (line 7)) (3.0.12)\n",
      "Requirement already satisfied: appdirs<2,>=1.4.3 in /opt/scp/software/Python/3.9.5-GCCcore-10.3.0/lib/python3.9/site-packages (from virtualenv->-r requirements.txt (line 7)) (1.4.4)\n",
      "Requirement already satisfied: distlib<1,>=0.3.1 in /opt/scp/software/Python/3.9.5-GCCcore-10.3.0/lib/python3.9/site-packages (from virtualenv->-r requirements.txt (line 7)) (0.3.1)\n",
      "Requirement already satisfied: pynndescent>=0.5 in /home/kzmq426/.local/lib/python3.9/site-packages (from umap-learn->-r requirements.txt (line 9)) (0.5.6)\n",
      "Requirement already satisfied: tqdm in /home/kzmq426/.local/lib/python3.9/site-packages (from umap-learn->-r requirements.txt (line 9)) (4.63.0)\n",
      "Requirement already satisfied: numba>=0.49 in /home/kzmq426/.local/lib/python3.9/site-packages (from umap-learn->-r requirements.txt (line 9)) (0.55.1)\n",
      "Requirement already satisfied: setuptools in /opt/scp/software/Python/3.9.5-GCCcore-10.3.0/lib/python3.9/site-packages (from numba>=0.49->umap-learn->-r requirements.txt (line 9)) (56.2.0)\n",
      "Requirement already satisfied: llvmlite<0.39,>=0.38.0rc1 in /home/kzmq426/.local/lib/python3.9/site-packages (from numba>=0.49->umap-learn->-r requirements.txt (line 9)) (0.38.0)\n",
      "Requirement already satisfied: joblib>=0.11 in /opt/scp/software/Python/3.9.5-GCCcore-10.3.0/lib/python3.9/site-packages (from pynndescent>=0.5->umap-learn->-r requirements.txt (line 9)) (1.0.1)\n",
      "Requirement already satisfied: threadpoolctl>=2.0.0 in /opt/scp/software/Python/3.9.5-GCCcore-10.3.0/lib/python3.9/site-packages (from scikit-learn->sklearn->-r requirements.txt (line 2)) (2.1.0)\n",
      "Requirement already satisfied: importlib-metadata>=3.6 in /home/kzmq426/.local/lib/python3.9/site-packages (from twine->pyloco>=0.0.134->matplot->-r requirements.txt (line 3)) (4.11.3)\n",
      "Requirement already satisfied: colorama>=0.4.3 in /opt/scp/software/Python/3.9.5-GCCcore-10.3.0/lib/python3.9/site-packages (from twine->pyloco>=0.0.134->matplot->-r requirements.txt (line 3)) (0.4.4)\n",
      "Requirement already satisfied: keyring>=15.1 in /opt/scp/software/Python/3.9.5-GCCcore-10.3.0/lib/python3.9/site-packages (from twine->pyloco>=0.0.134->matplot->-r requirements.txt (line 3)) (21.8.0)\n",
      "Requirement already satisfied: requests-toolbelt!=0.9.0,>=0.8.0 in /opt/scp/software/Python/3.9.5-GCCcore-10.3.0/lib/python3.9/site-packages (from twine->pyloco>=0.0.134->matplot->-r requirements.txt (line 3)) (0.9.1)\n",
      "Requirement already satisfied: urllib3>=1.26.0 in /opt/scp/software/Python/3.9.5-GCCcore-10.3.0/lib/python3.9/site-packages (from twine->pyloco>=0.0.134->matplot->-r requirements.txt (line 3)) (1.26.4)\n",
      "Requirement already satisfied: rfc3986>=1.4.0 in /home/kzmq426/.local/lib/python3.9/site-packages (from twine->pyloco>=0.0.134->matplot->-r requirements.txt (line 3)) (2.0.0)\n",
      "Requirement already satisfied: readme-renderer>=21.0 in /home/kzmq426/.local/lib/python3.9/site-packages (from twine->pyloco>=0.0.134->matplot->-r requirements.txt (line 3)) (32.0)\n",
      "Requirement already satisfied: pkginfo>=1.8.1 in /home/kzmq426/.local/lib/python3.9/site-packages (from twine->pyloco>=0.0.134->matplot->-r requirements.txt (line 3)) (1.8.2)\n",
      "Requirement already satisfied: requests>=2.20 in /opt/scp/software/Python/3.9.5-GCCcore-10.3.0/lib/python3.9/site-packages (from twine->pyloco>=0.0.134->matplot->-r requirements.txt (line 3)) (2.25.1)\n",
      "Requirement already satisfied: zipp>=0.5 in /opt/scp/software/Python/3.9.5-GCCcore-10.3.0/lib/python3.9/site-packages (from importlib-metadata>=3.6->twine->pyloco>=0.0.134->matplot->-r requirements.txt (line 3)) (3.4.1)\n",
      "Requirement already satisfied: SecretStorage>=3.2 in /opt/scp/software/Python/3.9.5-GCCcore-10.3.0/lib/python3.9/site-packages (from keyring>=15.1->twine->pyloco>=0.0.134->matplot->-r requirements.txt (line 3)) (3.3.1)\n",
      "Requirement already satisfied: jeepney>=0.4.2 in /opt/scp/software/Python/3.9.5-GCCcore-10.3.0/lib/python3.9/site-packages (from keyring>=15.1->twine->pyloco>=0.0.134->matplot->-r requirements.txt (line 3)) (0.6.0)\n",
      "Requirement already satisfied: bleach>=2.1.0 in /opt/scp/software/IPython/7.25.0-GCCcore-10.3.0/lib/python3.9/site-packages (from readme-renderer>=21.0->twine->pyloco>=0.0.134->matplot->-r requirements.txt (line 3)) (3.3.0)\n",
      "Requirement already satisfied: Pygments>=2.5.1 in /opt/scp/software/Python/3.9.5-GCCcore-10.3.0/lib/python3.9/site-packages (from readme-renderer>=21.0->twine->pyloco>=0.0.134->matplot->-r requirements.txt (line 3)) (2.9.0)\n",
      "Requirement already satisfied: docutils>=0.13.1 in /opt/scp/software/Python/3.9.5-GCCcore-10.3.0/lib/python3.9/site-packages (from readme-renderer>=21.0->twine->pyloco>=0.0.134->matplot->-r requirements.txt (line 3)) (0.17.1)\n",
      "Requirement already satisfied: webencodings in /opt/scp/software/Python/3.9.5-GCCcore-10.3.0/lib/python3.9/site-packages (from bleach>=2.1.0->readme-renderer>=21.0->twine->pyloco>=0.0.134->matplot->-r requirements.txt (line 3)) (0.5.1)\n",
      "Requirement already satisfied: idna<3,>=2.5 in /opt/scp/software/Python/3.9.5-GCCcore-10.3.0/lib/python3.9/site-packages (from requests>=2.20->twine->pyloco>=0.0.134->matplot->-r requirements.txt (line 3)) (2.10)\n",
      "Requirement already satisfied: chardet<5,>=3.0.2 in /opt/scp/software/Python/3.9.5-GCCcore-10.3.0/lib/python3.9/site-packages (from requests>=2.20->twine->pyloco>=0.0.134->matplot->-r requirements.txt (line 3)) (4.0.0)\n",
      "Requirement already satisfied: certifi>=2017.4.17 in /opt/scp/software/Python/3.9.5-GCCcore-10.3.0/lib/python3.9/site-packages (from requests>=2.20->twine->pyloco>=0.0.134->matplot->-r requirements.txt (line 3)) (2020.12.5)\n",
      "Requirement already satisfied: cryptography>=2.0 in /opt/scp/software/Python/3.9.5-GCCcore-10.3.0/lib/python3.9/site-packages (from SecretStorage>=3.2->keyring>=15.1->twine->pyloco>=0.0.134->matplot->-r requirements.txt (line 3)) (3.4.7)\n",
      "Requirement already satisfied: cffi>=1.12 in /opt/scp/software/Python/3.9.5-GCCcore-10.3.0/lib/python3.9/site-packages (from cryptography>=2.0->SecretStorage>=3.2->keyring>=15.1->twine->pyloco>=0.0.134->matplot->-r requirements.txt (line 3)) (1.14.5)\n",
      "Requirement already satisfied: pycparser in /opt/scp/software/Python/3.9.5-GCCcore-10.3.0/lib/python3.9/site-packages (from cffi>=1.12->cryptography>=2.0->SecretStorage>=3.2->keyring>=15.1->twine->pyloco>=0.0.134->matplot->-r requirements.txt (line 3)) (2.20)\n",
      "\u001b[33mWARNING: You are using pip version 21.1.1; however, version 22.0.4 is available.\n",
      "You should consider upgrading via the '/opt/scp/software/Python/3.9.5-GCCcore-10.3.0/bin/python3.9 -m pip install --upgrade pip' command.\u001b[0m\n"
     ]
    }
   ],
   "source": [
    "! pip install -r requirements.txt"
   ]
  },
  {
   "cell_type": "markdown",
   "id": "fb7568cd-f92b-49b1-9709-7bde2332c0f6",
   "metadata": {},
   "source": [
    "### If you are working in the docker container from the resp. start here:"
   ]
  },
  {
   "cell_type": "code",
   "execution_count": 2,
   "id": "ca334a2a-d92e-4276-8287-28d4959419ae",
   "metadata": {},
   "outputs": [],
   "source": [
    "from utils import *"
   ]
  },
  {
   "cell_type": "markdown",
   "id": "f10b7c7c-5f5f-49d6-9565-049240600435",
   "metadata": {},
   "source": [
    "## Load & inspect data"
   ]
  },
  {
   "cell_type": "code",
   "execution_count": 3,
   "id": "c5ca14b6-0fd6-41f0-819c-e37da6338180",
   "metadata": {},
   "outputs": [],
   "source": [
    "# SIMCLR inpainting \n",
    "folder_inpainting_train = 'Camelyon16/inpainting/train_test/ShuffledTest00_50_ShuffledPartitions3_0/plots/epoch_-1_train_fullSize'\n",
    "folder_inpainting_test = 'Camelyon16/inpainting/test_tumor/ShuffledTest00_50_ShuffledPartitions3_0/plots/epoch_-1_train_fullSize'"
   ]
  },
  {
   "cell_type": "code",
   "execution_count": 5,
   "id": "8b1dd0f4-d36a-48c7-b5fc-ed7dfea6f0b3",
   "metadata": {},
   "outputs": [],
   "source": [
    "embeddings_inpainting_train, classes_inpainting_train, patch_information_inpainting_train = load_data(folder_inpainting_train)\n",
    "embeddings_inpainting_train, embeddings_inpainting_test, classes_inpainting_train, classes_inpainting_test, patch_information_inpainting_train, patch_information_inpainting_test = sort_train_test(embeddings_inpainting_train, classes_inpainting_train, patch_information_inpainting_train)"
   ]
  },
  {
   "cell_type": "code",
   "execution_count": 6,
   "id": "c0d2cb7d-c2e5-42cb-b2a3-a46802727bd4",
   "metadata": {
    "collapsed": true,
    "jupyter": {
     "outputs_hidden": true
    },
    "tags": []
   },
   "outputs": [
    {
     "name": "stdout",
     "output_type": "stream",
     "text": [
      "---------------- EMBEDDING -----------------------\n",
      "[7.41712982e-03 4.87098470e-02 4.55160588e-02 6.72523165e-05\n",
      " 6.76188990e-02 1.80352596e-03 2.81082708e-02 1.06640622e-01\n",
      " 4.58478071e-02 3.41291800e-02 2.50343923e-02 5.48104718e-02\n",
      " 2.27977261e-02 2.34034844e-02 3.71418074e-02 8.83371308e-02\n",
      " 7.92831182e-02 2.38732379e-02 1.06051788e-01 2.71834806e-02\n",
      " 1.35223987e-02 5.02797663e-02 4.06470895e-03 2.26685475e-03\n",
      " 7.96845555e-03 1.56139508e-02 1.15335554e-01 1.10797033e-01\n",
      " 4.45721112e-02 4.39395085e-02 7.98089132e-02 2.35555004e-02\n",
      " 3.17283091e-03 7.23395497e-02 1.66377835e-02 2.98650488e-02\n",
      " 3.22715938e-03 5.90924807e-02 2.65250611e-03 1.69568602e-02\n",
      " 7.13715851e-02 3.35715339e-02 2.28778031e-02 1.31098581e-02\n",
      " 4.22034459e-03 8.64332095e-02 1.01765320e-01 1.44570495e-03\n",
      " 3.53542380e-02 0.00000000e+00 1.03555853e-02 4.55004573e-02\n",
      " 1.07379910e-02 1.28194531e-02 5.48646646e-03 8.62159953e-03\n",
      " 1.24087064e-02 9.97104794e-02 9.14450083e-03 4.45629284e-03\n",
      " 2.19683405e-02 5.61297536e-02 7.60447979e-02 7.34029105e-03\n",
      " 1.66751532e-04 1.82055347e-02 9.88516258e-04 7.55589977e-02\n",
      " 2.13330872e-02 4.04102728e-02 3.42288911e-02 2.27441136e-02\n",
      " 1.06902001e-02 2.83223800e-02 1.17222583e-02 1.91194192e-02\n",
      " 3.90575118e-02 1.37945246e-02 1.16942286e-01 7.37965340e-03\n",
      " 1.59765735e-01 1.25997607e-02 1.82210673e-02 3.33901383e-02\n",
      " 3.00721433e-02 6.59020105e-03 3.48761827e-02 7.77908252e-04\n",
      " 6.13279901e-02 2.59906519e-02 8.34733807e-03 4.19786386e-03\n",
      " 2.34771352e-02 3.50740552e-02 3.57036926e-02 0.00000000e+00\n",
      " 5.09065464e-02 1.64141729e-02 6.08490892e-02 1.09162601e-03\n",
      " 3.53915915e-02 1.01923468e-02 1.51644833e-02 5.29285334e-03\n",
      " 1.91615317e-02 1.48310848e-02 1.99459903e-02 4.03704755e-02\n",
      " 6.70969067e-03 5.91147989e-02 2.67109275e-02 5.98834595e-03\n",
      " 7.82673899e-03 5.92216337e-03 9.09349471e-02 3.72632258e-02\n",
      " 2.47482210e-02 6.66290671e-02 3.54681560e-03 4.84010205e-02\n",
      " 2.15312699e-03 5.82033582e-02 3.90175618e-02 3.30224563e-03\n",
      " 6.83990940e-02 2.78073712e-04 9.73221380e-04 1.45162037e-02\n",
      " 1.83980074e-03 3.27291973e-02 2.64340881e-02 2.30963510e-02\n",
      " 1.19535103e-02 4.32022009e-03 9.81245283e-03 2.37029381e-02\n",
      " 1.52147049e-02 5.94455637e-02 2.04195324e-02 2.14609094e-02\n",
      " 4.41207662e-02 1.34098567e-02 1.03563681e-01 2.33934317e-02\n",
      " 4.20612209e-02 2.68803760e-02 8.40401947e-02 5.04679829e-02\n",
      " 1.05736300e-01 1.68715720e-03 0.00000000e+00 9.98057276e-02\n",
      " 1.75078213e-03 1.24043092e-01 8.89134314e-03 1.45523278e-02\n",
      " 1.71084260e-03 2.03569531e-02 2.06024200e-03 2.04775874e-02\n",
      " 7.48199075e-02 2.48337612e-02 1.85161717e-02 1.46664277e-01\n",
      " 8.02326426e-02 4.37616510e-03 9.31272209e-02 1.25962244e-02\n",
      " 4.23553429e-04 7.31903762e-02 4.26729657e-02 1.16340108e-01\n",
      " 1.77568734e-01 9.29039344e-03 2.02466398e-02 2.92206965e-02\n",
      " 4.00726013e-02 1.33325777e-03 1.03571415e-02 0.00000000e+00\n",
      " 5.40457573e-03 1.43254828e-02 5.74712120e-02 2.18797643e-02\n",
      " 1.96939167e-02 6.61240071e-02 3.96278426e-02 3.38170342e-02\n",
      " 7.33385831e-02 6.25267625e-02 1.20050237e-02 1.50075778e-01\n",
      " 7.39777368e-03 2.91907098e-02 1.00468704e-02 7.16367960e-02\n",
      " 7.11415038e-02 3.89634562e-03 2.62901802e-02 1.80231646e-01\n",
      " 6.33251667e-03 7.48834312e-02 1.64046534e-03 6.59032539e-03\n",
      " 4.23754603e-02 7.90034048e-03 2.92269774e-02 1.27390129e-02\n",
      " 1.85629576e-02 2.70195492e-02 9.08106659e-03 0.00000000e+00\n",
      " 1.33352289e-02 6.42420799e-02 4.49406952e-02 2.12530009e-02\n",
      " 3.84814404e-02 2.59070285e-02 7.90116191e-02 2.94115767e-02\n",
      " 2.31415518e-02 6.68332502e-02 5.69249950e-02 5.83347231e-02\n",
      " 9.87928174e-03 6.77702343e-03 4.35575992e-02 6.28896654e-02\n",
      " 2.62244139e-03 1.33250700e-02 6.93337917e-02 1.27666499e-02\n",
      " 3.36656929e-03 7.47545660e-02 6.77075982e-03 5.28480625e-03\n",
      " 8.13332871e-02 4.02714610e-02 6.01071529e-02 1.32022305e-05\n",
      " 5.79707064e-02 1.75459962e-02 4.07775491e-02 1.73617322e-02\n",
      " 7.78658374e-04 2.82420707e-03 2.64748558e-02 2.29223929e-02\n",
      " 3.33178812e-03 4.98391278e-02 8.45487714e-02 3.44000645e-02\n",
      " 4.71531376e-02 7.17867492e-03 2.06245966e-02 3.11690308e-02\n",
      " 3.63375060e-02 6.81040669e-03 1.28596881e-02 6.55862130e-03\n",
      " 1.30249420e-02 4.13913131e-02 2.37293486e-02 7.50753954e-02\n",
      " 3.95123325e-02 7.81164542e-02 4.60694991e-02 5.80344610e-02\n",
      " 8.74430872e-03 2.03250675e-04 7.96963647e-02 5.05594537e-02\n",
      " 1.69347338e-02 1.44128397e-03 1.85007714e-02 2.86647980e-03\n",
      " 5.15833125e-02 3.81510891e-02 1.27389133e-02 5.91318458e-02\n",
      " 1.04126164e-04 2.23614220e-02 1.33210458e-02 6.68564811e-02\n",
      " 1.02114312e-01 1.08923120e-02 1.96824176e-03 3.60884219e-02\n",
      " 4.69846465e-02 8.03375896e-03 1.34449918e-02 5.07883448e-03\n",
      " 5.13394997e-02 1.38341973e-03 2.32858602e-02 2.32759141e-03\n",
      " 6.21669218e-02 1.89728215e-02 1.84710547e-02 3.30974511e-03\n",
      " 2.60428507e-02 3.47315846e-03 3.68781528e-03 1.84416282e-03\n",
      " 3.66168134e-02 1.31461746e-03 1.56575989e-03 3.14643122e-02\n",
      " 5.91962785e-02 7.56936893e-03 1.34518920e-02 5.11799082e-02\n",
      " 2.35314183e-02 6.93491474e-02 4.28215787e-02 3.04034408e-02\n",
      " 2.12437026e-02 1.02457823e-03 3.40186283e-02 4.42475110e-04\n",
      " 3.61002870e-02 5.88665204e-03 2.41196882e-02 7.20380917e-02\n",
      " 2.99208928e-02 4.59603220e-02 8.06565769e-03 6.06949115e-03\n",
      " 1.53591149e-02 1.10277690e-01 5.38513139e-02 1.53308110e-02\n",
      " 6.71758875e-02 6.71403930e-02 5.95026230e-03 1.15113799e-02\n",
      " 3.14661078e-02 7.92423077e-03 8.61030165e-03 2.08598711e-02\n",
      " 1.71339549e-02 8.05655494e-03 1.20266806e-02 1.71407871e-02\n",
      " 3.48337516e-02 1.26704108e-02 1.08325342e-02 1.58442801e-03\n",
      " 3.26004252e-02 1.12369354e-03 4.56665782e-03 1.16983533e-01\n",
      " 4.58480641e-02 8.57524748e-04 1.73884090e-02 1.48565685e-02\n",
      " 1.90072600e-02 9.93331312e-04 3.81334238e-02 3.26808542e-02\n",
      " 1.09228594e-02 3.96736525e-02 8.76535848e-03 6.18987763e-03\n",
      " 5.30123562e-02 3.48463072e-04 5.01170382e-03 8.45772028e-02\n",
      " 8.85011628e-03 4.73009050e-02 5.56907132e-02 1.10164702e-01\n",
      " 4.82476652e-02 7.28007546e-03 2.80979974e-03 4.29108590e-02\n",
      " 1.92032161e-03 4.46790550e-03 7.97852594e-03 5.89531064e-02\n",
      " 1.56960916e-03 8.21781233e-02 3.12829763e-02 8.78675058e-02\n",
      " 1.57795250e-02 4.55720946e-02 1.04238624e-02 1.06719388e-02\n",
      " 4.55454625e-02 2.91415188e-03 1.78834721e-02 9.70111229e-03\n",
      " 2.95298025e-02 4.18320186e-02 4.28738594e-02 4.16007899e-02\n",
      " 2.18060091e-02 4.65654135e-02 6.34873426e-03 4.34905440e-02\n",
      " 1.53628644e-02 1.36555824e-03 4.37417775e-02 2.23489683e-02\n",
      " 2.87231281e-02 3.11026238e-02 1.08193560e-03 2.87502934e-03\n",
      " 8.88867304e-02 3.73960100e-02 8.27157591e-03 3.02454587e-02\n",
      " 6.08515926e-02 1.15320049e-01 3.63349989e-02 1.95921380e-02\n",
      " 5.44562489e-02 4.75462712e-02 3.39008570e-02 3.87322046e-02\n",
      " 1.75396875e-02 5.72581310e-03 1.10668074e-02 4.27446282e-03\n",
      " 1.10343412e-04 1.34654921e-02 3.15344296e-02 6.54934859e-03\n",
      " 2.26907749e-02 3.23629007e-02 5.71574643e-03 1.00827907e-04\n",
      " 1.41494889e-02 2.09315736e-02 5.03754392e-02 2.41487231e-02\n",
      " 4.69093164e-03 1.34919910e-02 2.53178906e-02 7.05147311e-02\n",
      " 2.44898908e-02 4.05834056e-02 9.76674142e-04 3.40928100e-02\n",
      " 3.23518738e-02 3.65452357e-02 2.37483997e-02 1.64187532e-02\n",
      " 1.18018677e-02 2.68739033e-02 7.18802912e-03 2.24745125e-02\n",
      " 2.99104396e-02 4.39611413e-02 1.20151248e-02 1.06035862e-02\n",
      " 2.29770280e-02 2.34886203e-02 2.59962194e-02 3.09188161e-02\n",
      " 1.00599259e-01 1.47478595e-01 1.28506012e-02 8.38922057e-03\n",
      " 1.10108163e-02 6.13172837e-02 1.10174771e-02 1.21699777e-02\n",
      " 2.90940609e-02 1.79626346e-02 1.53272897e-02 6.13209046e-02\n",
      " 2.98818685e-02 9.84791443e-02 2.21740697e-02 8.00632220e-03\n",
      " 4.78062332e-02 6.30540624e-02 9.35977977e-03 2.29782076e-03\n",
      " 8.66758302e-02 2.80428696e-02 4.54316754e-03 7.49472529e-03\n",
      " 2.24604690e-03 1.44249890e-02 3.40737589e-02 1.66227408e-02\n",
      " 9.87975076e-02 2.80543938e-02 2.87760422e-02 6.90435916e-02\n",
      " 8.52407143e-02 6.51931809e-03 8.88674259e-02 4.19831425e-02\n",
      " 1.30291777e-02 7.94950593e-03 4.71577281e-03 2.55731773e-02\n",
      " 2.32983083e-02 1.65731739e-02 4.95927706e-02 0.00000000e+00\n",
      " 5.56496531e-03 4.59760334e-03 0.00000000e+00 5.07680979e-03\n",
      " 4.97573428e-02 4.15438786e-03 5.24927452e-02 2.63020340e-02]\n",
      "---------------- CLASS -----------------------\n",
      "0\n",
      "---------------- PATCH INFORMATION -----------------------\n",
      "memorymaps/training/normal_006/mpp_3.89,4,299,3289,4485\n"
     ]
    }
   ],
   "source": [
    "print_data(9999, embeddings_inpainting_train, classes_inpainting_train, patch_information_inpainting_train)"
   ]
  },
  {
   "cell_type": "code",
   "execution_count": 7,
   "id": "4bc2704d-400c-4398-b105-81beede81b97",
   "metadata": {},
   "outputs": [
    {
     "name": "stdout",
     "output_type": "stream",
     "text": [
      "-----------NUM inpainting EMBEDDINGS TRAIN-------------\n",
      "1353990\n",
      "-----------NUM inpainting EMBEDDINGS TEST-------------\n",
      "701967\n",
      "------------------------\n"
     ]
    }
   ],
   "source": [
    "print(\"-----------NUM inpainting EMBEDDINGS TRAIN-------------\")\n",
    "print(len(embeddings_inpainting_train))\n",
    "print(\"-----------NUM inpainting EMBEDDINGS TEST-------------\")\n",
    "print(len(embeddings_inpainting_test))\n",
    "print(\"------------------------\")"
   ]
  },
  {
   "cell_type": "markdown",
   "id": "3d922a2e-5c32-4aa1-abad-4539ead1633a",
   "metadata": {},
   "source": [
    "## MULTI-LAYER PERCEPTRON"
   ]
  },
  {
   "cell_type": "markdown",
   "id": "771fccb6-0ac7-4b33-8819-5c8945d67cea",
   "metadata": {},
   "source": [
    "### Hyperparameter optimization"
   ]
  },
  {
   "cell_type": "code",
   "execution_count": 9,
   "id": "42a31582-1af1-42d1-b6a3-3c8601afd1d8",
   "metadata": {
    "tags": []
   },
   "outputs": [],
   "source": [
    "hidden_layer_sizes = (50,50,50)\n",
    "activation = 'relu'\n",
    "solver = 'adam'\n",
    "alpha = 0.0001\n",
    "learning_rate = 'constant'\n",
    "X, y = percentage_dataset(embeddings_inpainting_train, classes_inpainting_train, 0.1)\n",
    "hidden_layer_sizes, activation, solver, alpha, learning_rate = run_HypPar_MLP(X,y)"
   ]
  },
  {
   "cell_type": "markdown",
   "id": "f3d9ee0b-7039-44ff-9e84-342ca8051c95",
   "metadata": {},
   "source": [
    "### Percentage tests"
   ]
  },
  {
   "cell_type": "code",
   "execution_count": 10,
   "id": "c1776fe9-0df5-4b51-8ee0-21e6f7bf9061",
   "metadata": {
    "collapsed": true,
    "jupyter": {
     "outputs_hidden": true
    },
    "tags": []
   },
   "outputs": [
    {
     "name": "stderr",
     "output_type": "stream",
     "text": [
      "/home/kzmq426/.local/lib/python3.9/site-packages/sklearn/neural_network/_multilayer_perceptron.py:692: ConvergenceWarning: Stochastic Optimizer: Maximum iterations (200) reached and the optimization hasn't converged yet.\n",
      "  warnings.warn(\n"
     ]
    },
    {
     "name": "stdout",
     "output_type": "stream",
     "text": [
      "---------------------------------------\n",
      "PERCENTAGE: 10.0% OF DATASET, NUMBER EMBEDDINGS: 135399\n",
      "HYPERPARAMETERS: HIDDEN LAYER SIZES = (50, 50, 50), ACTIVATION = relu, SOLVER = adam, ALPHA = 0.0001, LEARNING RATE = constant\n",
      "RUNTIME IN SEC: 1239.3995621204376\n",
      "ACCURACY:\n",
      "0.9637005728189502\n",
      "AUC & ROC CURVE:\n"
     ]
    },
    {
     "data": {
      "image/png": "[encoded data removed]",
      "text/plain": [
       "<Figure size 432x288 with 1 Axes>"
      ]
     },
     "metadata": {
      "needs_background": "light"
     },
     "output_type": "display_data"
    },
    {
     "name": "stdout",
     "output_type": "stream",
     "text": [
      "PRECISION RECALL CURVE:\n"
     ]
    },
    {
     "name": "stderr",
     "output_type": "stream",
     "text": [
      "/home/kzmq426/.local/lib/python3.9/site-packages/sklearn/neural_network/_multilayer_perceptron.py:1226: RuntimeWarning: divide by zero encountered in log\n",
      "  return np.log(y_prob, out=y_prob)\n"
     ]
    },
    {
     "data": {
      "image/png": "[encoded data removed]",
      "text/plain": [
       "<Figure size 432x288 with 1 Axes>"
      ]
     },
     "metadata": {
      "needs_background": "light"
     },
     "output_type": "display_data"
    },
    {
     "name": "stdout",
     "output_type": "stream",
     "text": [
      "CONFUSION MATRIX:\n"
     ]
    },
    {
     "data": {
      "image/png": "[encoded data removed]",
      "text/plain": [
       "<Figure size 432x288 with 2 Axes>"
      ]
     },
     "metadata": {
      "needs_background": "light"
     },
     "output_type": "display_data"
    },
    {
     "name": "stdout",
     "output_type": "stream",
     "text": [
      "---------------------------------------\n"
     ]
    }
   ],
   "source": [
    "run_Percentage_MLP(embeddings_inpainting_train, classes_inpainting_train, embeddings_inpainting_test, classes_inpainting_test, [0.1], hidden_layer_sizes, activation, solver, alpha, learning_rate)"
   ]
  }
 ],
 "metadata": {
  "kernelspec": {
   "display_name": "Python 3 (ipykernel)",
   "language": "python",
   "name": "python3"
  },
  "language_info": {
   "codemirror_mode": {
    "name": "ipython",
    "version": 3
   },
   "file_extension": ".py",
   "mimetype": "text/x-python",
   "name": "python",
   "nbconvert_exporter": "python",
   "pygments_lexer": "ipython3",
   "version": "3.9.5"
  }
 },
 "nbformat": 4,
 "nbformat_minor": 5
}
